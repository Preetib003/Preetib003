{
  "nbformat": 4,
  "nbformat_minor": 0,
  "metadata": {
    "colab": {
      "provenance": [],
      "authorship_tag": "ABX9TyOz/Bw+p4gmg/a9xqucNMs7",
      "include_colab_link": true
    },
    "kernelspec": {
      "name": "python3",
      "display_name": "Python 3"
    },
    "language_info": {
      "name": "python"
    }
  },
  "cells": [
    {
      "cell_type": "markdown",
      "metadata": {
        "id": "view-in-github",
        "colab_type": "text"
      },
      "source": [
        "<a href=\"https://colab.research.google.com/github/Preetib003/Preetib003/blob/main/data_visualization_project.ipynb\" target=\"_parent\"><img src=\"https://colab.research.google.com/assets/colab-badge.svg\" alt=\"Open In Colab\"/></a>"
      ]
    },
    {
      "cell_type": "markdown",
      "source": [
        "# Rollno:6105"
      ],
      "metadata": {
        "id": "fUDB4rMqBTGo"
      }
    },
    {
      "cell_type": "markdown",
      "source": [
        "# Topic:Data visualization on Laptop prices and features"
      ],
      "metadata": {
        "id": "aLzFTKcrBKJ-"
      }
    },
    {
      "cell_type": "code",
      "execution_count": 146,
      "metadata": {
        "id": "VIDxxY4PzaQ9"
      },
      "outputs": [],
      "source": [
        "import numpy as np\n",
        "import pandas as pd\n",
        "import seaborn as sns\n",
        "import matplotlib.pyplot as plt"
      ]
    },
    {
      "cell_type": "code",
      "source": [
        "from google.colab import drive"
      ],
      "metadata": {
        "id": "Zvyhpkb3j8KP"
      },
      "execution_count": 147,
      "outputs": []
    },
    {
      "cell_type": "code",
      "source": [
        "drive.mount('/content/drive')"
      ],
      "metadata": {
        "colab": {
          "base_uri": "https://localhost:8080/"
        },
        "id": "cZsxlKNgNRhD",
        "outputId": "ad957af5-3b3f-4211-b100-c30d1c25a270"
      },
      "execution_count": 148,
      "outputs": [
        {
          "output_type": "stream",
          "name": "stdout",
          "text": [
            "Drive already mounted at /content/drive; to attempt to forcibly remount, call drive.mount(\"/content/drive\", force_remount=True).\n"
          ]
        }
      ]
    },
    {
      "cell_type": "code",
      "source": [
        "path='/content/drive/MyDrive/clean data3.xlsx'"
      ],
      "metadata": {
        "id": "aS5ZlkYTNbeH"
      },
      "execution_count": 149,
      "outputs": []
    },
    {
      "cell_type": "code",
      "source": [
        "df=pd.read_excel(path)\n",
        "print(df)"
      ],
      "metadata": {
        "colab": {
          "base_uri": "https://localhost:8080/"
        },
        "id": "nxzPAGsY0nvP",
        "outputId": "42623b7a-3bb3-4156-d1a1-8f5f8d4d1c4c"
      },
      "execution_count": 150,
      "outputs": [
        {
          "output_type": "stream",
          "name": "stdout",
          "text": [
            "    Company   TypeName   Ram  Weight  Price_euros  TouchScreen  Ips       Ppi  \\\n",
            "0     Apple  Ultrabook   8GB  1.37kg      1339.69            0    1  226.9830   \n",
            "1     Apple  Ultrabook   8GB  1.34kg       898.94            0    0  127.6779   \n",
            "2        HP   Notebook   8GB  1.86kg       575.00            0    0  141.2120   \n",
            "3     Apple  Ultrabook  16GB  1.83kg      2537.45            0    1  220.5346   \n",
            "4     Apple  Ultrabook   8GB  1.37kg      1803.60            0    1  226.9830   \n",
            "..      ...        ...   ...     ...          ...          ...  ...       ...   \n",
            "995    Asus   Notebook   8GB   1.4kg      1150.00            0    0  276.0535   \n",
            "996      HP  Ultrabook   8GB  1.11kg      1349.00            1    1  165.6321   \n",
            "997    Acer   Notebook   4GB   2.4kg       380.00            0    0  100.4547   \n",
            "998    Asus     Gaming  16GB   2.5kg      1799.00            0    0  141.2120   \n",
            "999      HP  Ultrabook   8GB  1.48kg      2089.00            0    0  157.3505   \n",
            "\n",
            "                 Cpu_brand   HDD  SSD       Os  \n",
            "0            Intel Core i5     0  128      Mac  \n",
            "1            Intel Core i5     0    0      Mac  \n",
            "2            Intel Core i5     0  256   Others  \n",
            "3            Intel Core i7     0  512      Mac  \n",
            "4            Intel Core i5     0  256      Mac  \n",
            "..                     ...   ...  ...      ...  \n",
            "995          Intel Core i5     0  256  Windows  \n",
            "996          Intel Core i7     0  256  Windows  \n",
            "997  Other Intel Processor   500    0  Windows  \n",
            "998          Intel Core i7  1000  256  Windows  \n",
            "999          Intel Core i7     0  512  Windows  \n",
            "\n",
            "[1000 rows x 12 columns]\n"
          ]
        }
      ]
    },
    {
      "cell_type": "code",
      "source": [
        "null_values=df.isnull().sum()\n",
        "print('null values in dataframe')\n",
        "print(null_values)"
      ],
      "metadata": {
        "colab": {
          "base_uri": "https://localhost:8080/"
        },
        "id": "z4xzlQD-TAAu",
        "outputId": "aa561e09-4164-4b79-9b3b-cc546ef60521"
      },
      "execution_count": 151,
      "outputs": [
        {
          "output_type": "stream",
          "name": "stdout",
          "text": [
            "null values in dataframe\n",
            "Company        0\n",
            "TypeName       0\n",
            "Ram            0\n",
            "Weight         0\n",
            "Price_euros    0\n",
            "TouchScreen    0\n",
            "Ips            0\n",
            "Ppi            0\n",
            "Cpu_brand      0\n",
            "HDD            0\n",
            "SSD            0\n",
            "Os             0\n",
            "dtype: int64\n"
          ]
        }
      ]
    },
    {
      "cell_type": "code",
      "source": [
        "df.info()"
      ],
      "metadata": {
        "colab": {
          "base_uri": "https://localhost:8080/"
        },
        "id": "sUGaTlLRTEhg",
        "outputId": "d9c790ae-afa9-4ac4-c4ff-3b32cf0a462a"
      },
      "execution_count": 152,
      "outputs": [
        {
          "output_type": "stream",
          "name": "stdout",
          "text": [
            "<class 'pandas.core.frame.DataFrame'>\n",
            "RangeIndex: 1000 entries, 0 to 999\n",
            "Data columns (total 12 columns):\n",
            " #   Column       Non-Null Count  Dtype  \n",
            "---  ------       --------------  -----  \n",
            " 0   Company      1000 non-null   object \n",
            " 1   TypeName     1000 non-null   object \n",
            " 2   Ram          1000 non-null   object \n",
            " 3   Weight       1000 non-null   object \n",
            " 4   Price_euros  1000 non-null   float64\n",
            " 5   TouchScreen  1000 non-null   int64  \n",
            " 6   Ips          1000 non-null   int64  \n",
            " 7   Ppi          1000 non-null   float64\n",
            " 8   Cpu_brand    1000 non-null   object \n",
            " 9   HDD          1000 non-null   int64  \n",
            " 10  SSD          1000 non-null   int64  \n",
            " 11  Os           1000 non-null   object \n",
            "dtypes: float64(2), int64(4), object(6)\n",
            "memory usage: 93.9+ KB\n"
          ]
        }
      ]
    },
    {
      "cell_type": "code",
      "source": [
        "df.describe()"
      ],
      "metadata": {
        "colab": {
          "base_uri": "https://localhost:8080/",
          "height": 300
        },
        "id": "PN0l4SX9Pubx",
        "outputId": "926e1e9f-4a8a-4958-8f0f-eee4e88c9149"
      },
      "execution_count": 153,
      "outputs": [
        {
          "output_type": "execute_result",
          "data": {
            "text/plain": [
              "       Price_euros  TouchScreen          Ips          Ppi          HDD  \\\n",
              "count  1000.000000  1000.000000  1000.000000  1000.000000  1000.000000   \n",
              "mean   1125.706070     0.145000     0.283000   147.261968   418.660000   \n",
              "std     705.380659     0.352277     0.450682    42.531903   531.764973   \n",
              "min     191.900000     0.000000     0.000000    90.583400     0.000000   \n",
              "25%     599.000000     0.000000     0.000000   127.335700     0.000000   \n",
              "50%     959.500000     0.000000     0.000000   141.212000     0.000000   \n",
              "75%    1474.250000     0.000000     1.000000   157.350500  1000.000000   \n",
              "max    6099.000000     1.000000     1.000000   352.465100  2000.000000   \n",
              "\n",
              "               SSD  \n",
              "count  1000.000000  \n",
              "mean    190.864000  \n",
              "std     188.651284  \n",
              "min       0.000000  \n",
              "25%       0.000000  \n",
              "50%     256.000000  \n",
              "75%     256.000000  \n",
              "max    1024.000000  "
            ],
            "text/html": [
              "\n",
              "  <div id=\"df-f53fc8cd-6df3-44f4-b4ec-28fddd518f44\" class=\"colab-df-container\">\n",
              "    <div>\n",
              "<style scoped>\n",
              "    .dataframe tbody tr th:only-of-type {\n",
              "        vertical-align: middle;\n",
              "    }\n",
              "\n",
              "    .dataframe tbody tr th {\n",
              "        vertical-align: top;\n",
              "    }\n",
              "\n",
              "    .dataframe thead th {\n",
              "        text-align: right;\n",
              "    }\n",
              "</style>\n",
              "<table border=\"1\" class=\"dataframe\">\n",
              "  <thead>\n",
              "    <tr style=\"text-align: right;\">\n",
              "      <th></th>\n",
              "      <th>Price_euros</th>\n",
              "      <th>TouchScreen</th>\n",
              "      <th>Ips</th>\n",
              "      <th>Ppi</th>\n",
              "      <th>HDD</th>\n",
              "      <th>SSD</th>\n",
              "    </tr>\n",
              "  </thead>\n",
              "  <tbody>\n",
              "    <tr>\n",
              "      <th>count</th>\n",
              "      <td>1000.000000</td>\n",
              "      <td>1000.000000</td>\n",
              "      <td>1000.000000</td>\n",
              "      <td>1000.000000</td>\n",
              "      <td>1000.000000</td>\n",
              "      <td>1000.000000</td>\n",
              "    </tr>\n",
              "    <tr>\n",
              "      <th>mean</th>\n",
              "      <td>1125.706070</td>\n",
              "      <td>0.145000</td>\n",
              "      <td>0.283000</td>\n",
              "      <td>147.261968</td>\n",
              "      <td>418.660000</td>\n",
              "      <td>190.864000</td>\n",
              "    </tr>\n",
              "    <tr>\n",
              "      <th>std</th>\n",
              "      <td>705.380659</td>\n",
              "      <td>0.352277</td>\n",
              "      <td>0.450682</td>\n",
              "      <td>42.531903</td>\n",
              "      <td>531.764973</td>\n",
              "      <td>188.651284</td>\n",
              "    </tr>\n",
              "    <tr>\n",
              "      <th>min</th>\n",
              "      <td>191.900000</td>\n",
              "      <td>0.000000</td>\n",
              "      <td>0.000000</td>\n",
              "      <td>90.583400</td>\n",
              "      <td>0.000000</td>\n",
              "      <td>0.000000</td>\n",
              "    </tr>\n",
              "    <tr>\n",
              "      <th>25%</th>\n",
              "      <td>599.000000</td>\n",
              "      <td>0.000000</td>\n",
              "      <td>0.000000</td>\n",
              "      <td>127.335700</td>\n",
              "      <td>0.000000</td>\n",
              "      <td>0.000000</td>\n",
              "    </tr>\n",
              "    <tr>\n",
              "      <th>50%</th>\n",
              "      <td>959.500000</td>\n",
              "      <td>0.000000</td>\n",
              "      <td>0.000000</td>\n",
              "      <td>141.212000</td>\n",
              "      <td>0.000000</td>\n",
              "      <td>256.000000</td>\n",
              "    </tr>\n",
              "    <tr>\n",
              "      <th>75%</th>\n",
              "      <td>1474.250000</td>\n",
              "      <td>0.000000</td>\n",
              "      <td>1.000000</td>\n",
              "      <td>157.350500</td>\n",
              "      <td>1000.000000</td>\n",
              "      <td>256.000000</td>\n",
              "    </tr>\n",
              "    <tr>\n",
              "      <th>max</th>\n",
              "      <td>6099.000000</td>\n",
              "      <td>1.000000</td>\n",
              "      <td>1.000000</td>\n",
              "      <td>352.465100</td>\n",
              "      <td>2000.000000</td>\n",
              "      <td>1024.000000</td>\n",
              "    </tr>\n",
              "  </tbody>\n",
              "</table>\n",
              "</div>\n",
              "    <div class=\"colab-df-buttons\">\n",
              "\n",
              "  <div class=\"colab-df-container\">\n",
              "    <button class=\"colab-df-convert\" onclick=\"convertToInteractive('df-f53fc8cd-6df3-44f4-b4ec-28fddd518f44')\"\n",
              "            title=\"Convert this dataframe to an interactive table.\"\n",
              "            style=\"display:none;\">\n",
              "\n",
              "  <svg xmlns=\"http://www.w3.org/2000/svg\" height=\"24px\" viewBox=\"0 -960 960 960\">\n",
              "    <path d=\"M120-120v-720h720v720H120Zm60-500h600v-160H180v160Zm220 220h160v-160H400v160Zm0 220h160v-160H400v160ZM180-400h160v-160H180v160Zm440 0h160v-160H620v160ZM180-180h160v-160H180v160Zm440 0h160v-160H620v160Z\"/>\n",
              "  </svg>\n",
              "    </button>\n",
              "\n",
              "  <style>\n",
              "    .colab-df-container {\n",
              "      display:flex;\n",
              "      gap: 12px;\n",
              "    }\n",
              "\n",
              "    .colab-df-convert {\n",
              "      background-color: #E8F0FE;\n",
              "      border: none;\n",
              "      border-radius: 50%;\n",
              "      cursor: pointer;\n",
              "      display: none;\n",
              "      fill: #1967D2;\n",
              "      height: 32px;\n",
              "      padding: 0 0 0 0;\n",
              "      width: 32px;\n",
              "    }\n",
              "\n",
              "    .colab-df-convert:hover {\n",
              "      background-color: #E2EBFA;\n",
              "      box-shadow: 0px 1px 2px rgba(60, 64, 67, 0.3), 0px 1px 3px 1px rgba(60, 64, 67, 0.15);\n",
              "      fill: #174EA6;\n",
              "    }\n",
              "\n",
              "    .colab-df-buttons div {\n",
              "      margin-bottom: 4px;\n",
              "    }\n",
              "\n",
              "    [theme=dark] .colab-df-convert {\n",
              "      background-color: #3B4455;\n",
              "      fill: #D2E3FC;\n",
              "    }\n",
              "\n",
              "    [theme=dark] .colab-df-convert:hover {\n",
              "      background-color: #434B5C;\n",
              "      box-shadow: 0px 1px 3px 1px rgba(0, 0, 0, 0.15);\n",
              "      filter: drop-shadow(0px 1px 2px rgba(0, 0, 0, 0.3));\n",
              "      fill: #FFFFFF;\n",
              "    }\n",
              "  </style>\n",
              "\n",
              "    <script>\n",
              "      const buttonEl =\n",
              "        document.querySelector('#df-f53fc8cd-6df3-44f4-b4ec-28fddd518f44 button.colab-df-convert');\n",
              "      buttonEl.style.display =\n",
              "        google.colab.kernel.accessAllowed ? 'block' : 'none';\n",
              "\n",
              "      async function convertToInteractive(key) {\n",
              "        const element = document.querySelector('#df-f53fc8cd-6df3-44f4-b4ec-28fddd518f44');\n",
              "        const dataTable =\n",
              "          await google.colab.kernel.invokeFunction('convertToInteractive',\n",
              "                                                    [key], {});\n",
              "        if (!dataTable) return;\n",
              "\n",
              "        const docLinkHtml = 'Like what you see? Visit the ' +\n",
              "          '<a target=\"_blank\" href=https://colab.research.google.com/notebooks/data_table.ipynb>data table notebook</a>'\n",
              "          + ' to learn more about interactive tables.';\n",
              "        element.innerHTML = '';\n",
              "        dataTable['output_type'] = 'display_data';\n",
              "        await google.colab.output.renderOutput(dataTable, element);\n",
              "        const docLink = document.createElement('div');\n",
              "        docLink.innerHTML = docLinkHtml;\n",
              "        element.appendChild(docLink);\n",
              "      }\n",
              "    </script>\n",
              "  </div>\n",
              "\n",
              "\n",
              "<div id=\"df-8ca5bd59-ceae-4390-864b-7628c0a687e4\">\n",
              "  <button class=\"colab-df-quickchart\" onclick=\"quickchart('df-8ca5bd59-ceae-4390-864b-7628c0a687e4')\"\n",
              "            title=\"Suggest charts.\"\n",
              "            style=\"display:none;\">\n",
              "\n",
              "<svg xmlns=\"http://www.w3.org/2000/svg\" height=\"24px\"viewBox=\"0 0 24 24\"\n",
              "     width=\"24px\">\n",
              "    <g>\n",
              "        <path d=\"M19 3H5c-1.1 0-2 .9-2 2v14c0 1.1.9 2 2 2h14c1.1 0 2-.9 2-2V5c0-1.1-.9-2-2-2zM9 17H7v-7h2v7zm4 0h-2V7h2v10zm4 0h-2v-4h2v4z\"/>\n",
              "    </g>\n",
              "</svg>\n",
              "  </button>\n",
              "\n",
              "<style>\n",
              "  .colab-df-quickchart {\n",
              "      --bg-color: #E8F0FE;\n",
              "      --fill-color: #1967D2;\n",
              "      --hover-bg-color: #E2EBFA;\n",
              "      --hover-fill-color: #174EA6;\n",
              "      --disabled-fill-color: #AAA;\n",
              "      --disabled-bg-color: #DDD;\n",
              "  }\n",
              "\n",
              "  [theme=dark] .colab-df-quickchart {\n",
              "      --bg-color: #3B4455;\n",
              "      --fill-color: #D2E3FC;\n",
              "      --hover-bg-color: #434B5C;\n",
              "      --hover-fill-color: #FFFFFF;\n",
              "      --disabled-bg-color: #3B4455;\n",
              "      --disabled-fill-color: #666;\n",
              "  }\n",
              "\n",
              "  .colab-df-quickchart {\n",
              "    background-color: var(--bg-color);\n",
              "    border: none;\n",
              "    border-radius: 50%;\n",
              "    cursor: pointer;\n",
              "    display: none;\n",
              "    fill: var(--fill-color);\n",
              "    height: 32px;\n",
              "    padding: 0;\n",
              "    width: 32px;\n",
              "  }\n",
              "\n",
              "  .colab-df-quickchart:hover {\n",
              "    background-color: var(--hover-bg-color);\n",
              "    box-shadow: 0 1px 2px rgba(60, 64, 67, 0.3), 0 1px 3px 1px rgba(60, 64, 67, 0.15);\n",
              "    fill: var(--button-hover-fill-color);\n",
              "  }\n",
              "\n",
              "  .colab-df-quickchart-complete:disabled,\n",
              "  .colab-df-quickchart-complete:disabled:hover {\n",
              "    background-color: var(--disabled-bg-color);\n",
              "    fill: var(--disabled-fill-color);\n",
              "    box-shadow: none;\n",
              "  }\n",
              "\n",
              "  .colab-df-spinner {\n",
              "    border: 2px solid var(--fill-color);\n",
              "    border-color: transparent;\n",
              "    border-bottom-color: var(--fill-color);\n",
              "    animation:\n",
              "      spin 1s steps(1) infinite;\n",
              "  }\n",
              "\n",
              "  @keyframes spin {\n",
              "    0% {\n",
              "      border-color: transparent;\n",
              "      border-bottom-color: var(--fill-color);\n",
              "      border-left-color: var(--fill-color);\n",
              "    }\n",
              "    20% {\n",
              "      border-color: transparent;\n",
              "      border-left-color: var(--fill-color);\n",
              "      border-top-color: var(--fill-color);\n",
              "    }\n",
              "    30% {\n",
              "      border-color: transparent;\n",
              "      border-left-color: var(--fill-color);\n",
              "      border-top-color: var(--fill-color);\n",
              "      border-right-color: var(--fill-color);\n",
              "    }\n",
              "    40% {\n",
              "      border-color: transparent;\n",
              "      border-right-color: var(--fill-color);\n",
              "      border-top-color: var(--fill-color);\n",
              "    }\n",
              "    60% {\n",
              "      border-color: transparent;\n",
              "      border-right-color: var(--fill-color);\n",
              "    }\n",
              "    80% {\n",
              "      border-color: transparent;\n",
              "      border-right-color: var(--fill-color);\n",
              "      border-bottom-color: var(--fill-color);\n",
              "    }\n",
              "    90% {\n",
              "      border-color: transparent;\n",
              "      border-bottom-color: var(--fill-color);\n",
              "    }\n",
              "  }\n",
              "</style>\n",
              "\n",
              "  <script>\n",
              "    async function quickchart(key) {\n",
              "      const quickchartButtonEl =\n",
              "        document.querySelector('#' + key + ' button');\n",
              "      quickchartButtonEl.disabled = true;  // To prevent multiple clicks.\n",
              "      quickchartButtonEl.classList.add('colab-df-spinner');\n",
              "      try {\n",
              "        const charts = await google.colab.kernel.invokeFunction(\n",
              "            'suggestCharts', [key], {});\n",
              "      } catch (error) {\n",
              "        console.error('Error during call to suggestCharts:', error);\n",
              "      }\n",
              "      quickchartButtonEl.classList.remove('colab-df-spinner');\n",
              "      quickchartButtonEl.classList.add('colab-df-quickchart-complete');\n",
              "    }\n",
              "    (() => {\n",
              "      let quickchartButtonEl =\n",
              "        document.querySelector('#df-8ca5bd59-ceae-4390-864b-7628c0a687e4 button');\n",
              "      quickchartButtonEl.style.display =\n",
              "        google.colab.kernel.accessAllowed ? 'block' : 'none';\n",
              "    })();\n",
              "  </script>\n",
              "</div>\n",
              "    </div>\n",
              "  </div>\n"
            ]
          },
          "metadata": {},
          "execution_count": 153
        }
      ]
    },
    {
      "cell_type": "code",
      "source": [
        "df['Company'].value_counts()"
      ],
      "metadata": {
        "colab": {
          "base_uri": "https://localhost:8080/"
        },
        "id": "_GTrwT5gU3JT",
        "outputId": "706ac292-6d87-41d1-ba90-31ff0f98ccb7"
      },
      "execution_count": 154,
      "outputs": [
        {
          "output_type": "execute_result",
          "data": {
            "text/plain": [
              "Dell         237\n",
              "Lenovo       230\n",
              "HP           185\n",
              "Asus         126\n",
              "Acer          84\n",
              "Toshiba       41\n",
              "MSI           34\n",
              "Apple         17\n",
              "Samsung        8\n",
              "Mediacom       7\n",
              "Microsoft      6\n",
              "Razer          5\n",
              "Xiaomi         4\n",
              "Chuwi          3\n",
              "Google         3\n",
              "Fujitsu        3\n",
              "LG             3\n",
              "Huawei         2\n",
              "Vero           2\n",
              "Name: Company, dtype: int64"
            ]
          },
          "metadata": {},
          "execution_count": 154
        }
      ]
    },
    {
      "cell_type": "code",
      "source": [
        "df['TypeName'].value_counts()"
      ],
      "metadata": {
        "colab": {
          "base_uri": "https://localhost:8080/"
        },
        "id": "RofAFdJ6VAnA",
        "outputId": "715a13ad-a46c-486a-a801-f3c75fa68bc1"
      },
      "execution_count": 155,
      "outputs": [
        {
          "output_type": "execute_result",
          "data": {
            "text/plain": [
              "Notebook              563\n",
              "Ultrabook             154\n",
              "Gaming                153\n",
              "2 in 1 Convertible     88\n",
              "Workstation            24\n",
              "Netbook                18\n",
              "Name: TypeName, dtype: int64"
            ]
          },
          "metadata": {},
          "execution_count": 155
        }
      ]
    },
    {
      "cell_type": "code",
      "source": [
        "df['Cpu_brand'].value_counts()"
      ],
      "metadata": {
        "colab": {
          "base_uri": "https://localhost:8080/"
        },
        "id": "peNGr1ziVJF3",
        "outputId": "82083ba6-2b04-4fd1-d46c-493b29dced60"
      },
      "execution_count": 156,
      "outputs": [
        {
          "output_type": "execute_result",
          "data": {
            "text/plain": [
              "Intel Core i7            395\n",
              "Intel Core i5            339\n",
              "Other Intel Processor    111\n",
              "Intel Core i3            106\n",
              "AMD Processor             49\n",
              "Name: Cpu_brand, dtype: int64"
            ]
          },
          "metadata": {},
          "execution_count": 156
        }
      ]
    },
    {
      "cell_type": "code",
      "source": [
        "df['Os'].value_counts()"
      ],
      "metadata": {
        "colab": {
          "base_uri": "https://localhost:8080/"
        },
        "id": "UY4JNCcqXF1J",
        "outputId": "8bfcd493-7adc-47e3-d97e-ebce35901ee9"
      },
      "execution_count": 157,
      "outputs": [
        {
          "output_type": "execute_result",
          "data": {
            "text/plain": [
              "Windows    859\n",
              "Others     124\n",
              "Mac         17\n",
              "Name: Os, dtype: int64"
            ]
          },
          "metadata": {},
          "execution_count": 157
        }
      ]
    },
    {
      "cell_type": "code",
      "source": [
        "df.groupby('Company').mean()"
      ],
      "metadata": {
        "colab": {
          "base_uri": "https://localhost:8080/",
          "height": 731
        },
        "id": "PdRcgexnXMSZ",
        "outputId": "058596b9-eb26-435f-aa12-7c3daaea38bb"
      },
      "execution_count": 158,
      "outputs": [
        {
          "output_type": "stream",
          "name": "stderr",
          "text": [
            "<ipython-input-158-09ffb8aea42a>:1: FutureWarning: The default value of numeric_only in DataFrameGroupBy.mean is deprecated. In a future version, numeric_only will default to False. Either specify numeric_only or select only columns which should be valid for the function.\n",
            "  df.groupby('Company').mean()\n"
          ]
        },
        {
          "output_type": "execute_result",
          "data": {
            "text/plain": [
              "           Price_euros  TouchScreen       Ips         Ppi          HDD  \\\n",
              "Company                                                                  \n",
              "Acer        628.037024     0.107143  0.380952  128.452739   398.809524   \n",
              "Apple      1655.715882     0.000000  0.764706  201.999676     0.000000   \n",
              "Asus       1089.003254     0.111111  0.134921  139.127092   580.380952   \n",
              "Chuwi       314.296667     0.000000  0.333333  183.254133     0.000000   \n",
              "Dell       1238.045148     0.189873  0.160338  152.653132   502.109705   \n",
              "Fujitsu     729.000000     0.000000  0.000000  100.454700   333.333333   \n",
              "Google     1677.666667     1.000000  0.000000  234.507400     0.000000   \n",
              "HP         1028.066811     0.124324  0.248649  143.891410   381.081081   \n",
              "Huawei     1424.000000     0.000000  1.000000  199.692100     0.000000   \n",
              "LG         2099.000000     0.666667  1.000000  146.591500     0.000000   \n",
              "Lenovo     1078.845174     0.139130  0.439130  148.335169   356.521739   \n",
              "MSI        1789.748235     0.000000  0.117647  142.014947  1000.000000   \n",
              "Mediacom    295.000000     0.142857  0.714286  164.992414     4.571429   \n",
              "Microsoft  1612.308333     1.000000  0.000000  200.842600     0.000000   \n",
              "Razer      3779.000000     0.600000  0.200000  235.301740     0.000000   \n",
              "Samsung    1507.750000     0.250000  0.000000  151.723000   125.000000   \n",
              "Toshiba    1219.365854     0.121951  0.365854  138.808241   109.756098   \n",
              "Vero        231.450000     0.000000  0.500000  157.350500     0.000000   \n",
              "Xiaomi     1133.462500     0.000000  1.000000  153.422050     0.000000   \n",
              "\n",
              "                  SSD  \n",
              "Company                \n",
              "Acer        93.142857  \n",
              "Apple      233.411765  \n",
              "Asus       182.349206  \n",
              "Chuwi        0.000000  \n",
              "Dell       201.485232  \n",
              "Fujitsu    170.666667  \n",
              "Google     298.666667  \n",
              "HP         171.459459  \n",
              "Huawei     384.000000  \n",
              "LG         512.000000  \n",
              "Lenovo     209.147826  \n",
              "MSI        256.000000  \n",
              "Mediacom    18.285714  \n",
              "Microsoft  256.000000  \n",
              "Razer      558.400000  \n",
              "Samsung    208.000000  \n",
              "Toshiba    218.536585  \n",
              "Vero         0.000000  \n",
              "Xiaomi     256.000000  "
            ],
            "text/html": [
              "\n",
              "  <div id=\"df-69274120-5278-4cad-b4fe-a51b51ec2a8a\" class=\"colab-df-container\">\n",
              "    <div>\n",
              "<style scoped>\n",
              "    .dataframe tbody tr th:only-of-type {\n",
              "        vertical-align: middle;\n",
              "    }\n",
              "\n",
              "    .dataframe tbody tr th {\n",
              "        vertical-align: top;\n",
              "    }\n",
              "\n",
              "    .dataframe thead th {\n",
              "        text-align: right;\n",
              "    }\n",
              "</style>\n",
              "<table border=\"1\" class=\"dataframe\">\n",
              "  <thead>\n",
              "    <tr style=\"text-align: right;\">\n",
              "      <th></th>\n",
              "      <th>Price_euros</th>\n",
              "      <th>TouchScreen</th>\n",
              "      <th>Ips</th>\n",
              "      <th>Ppi</th>\n",
              "      <th>HDD</th>\n",
              "      <th>SSD</th>\n",
              "    </tr>\n",
              "    <tr>\n",
              "      <th>Company</th>\n",
              "      <th></th>\n",
              "      <th></th>\n",
              "      <th></th>\n",
              "      <th></th>\n",
              "      <th></th>\n",
              "      <th></th>\n",
              "    </tr>\n",
              "  </thead>\n",
              "  <tbody>\n",
              "    <tr>\n",
              "      <th>Acer</th>\n",
              "      <td>628.037024</td>\n",
              "      <td>0.107143</td>\n",
              "      <td>0.380952</td>\n",
              "      <td>128.452739</td>\n",
              "      <td>398.809524</td>\n",
              "      <td>93.142857</td>\n",
              "    </tr>\n",
              "    <tr>\n",
              "      <th>Apple</th>\n",
              "      <td>1655.715882</td>\n",
              "      <td>0.000000</td>\n",
              "      <td>0.764706</td>\n",
              "      <td>201.999676</td>\n",
              "      <td>0.000000</td>\n",
              "      <td>233.411765</td>\n",
              "    </tr>\n",
              "    <tr>\n",
              "      <th>Asus</th>\n",
              "      <td>1089.003254</td>\n",
              "      <td>0.111111</td>\n",
              "      <td>0.134921</td>\n",
              "      <td>139.127092</td>\n",
              "      <td>580.380952</td>\n",
              "      <td>182.349206</td>\n",
              "    </tr>\n",
              "    <tr>\n",
              "      <th>Chuwi</th>\n",
              "      <td>314.296667</td>\n",
              "      <td>0.000000</td>\n",
              "      <td>0.333333</td>\n",
              "      <td>183.254133</td>\n",
              "      <td>0.000000</td>\n",
              "      <td>0.000000</td>\n",
              "    </tr>\n",
              "    <tr>\n",
              "      <th>Dell</th>\n",
              "      <td>1238.045148</td>\n",
              "      <td>0.189873</td>\n",
              "      <td>0.160338</td>\n",
              "      <td>152.653132</td>\n",
              "      <td>502.109705</td>\n",
              "      <td>201.485232</td>\n",
              "    </tr>\n",
              "    <tr>\n",
              "      <th>Fujitsu</th>\n",
              "      <td>729.000000</td>\n",
              "      <td>0.000000</td>\n",
              "      <td>0.000000</td>\n",
              "      <td>100.454700</td>\n",
              "      <td>333.333333</td>\n",
              "      <td>170.666667</td>\n",
              "    </tr>\n",
              "    <tr>\n",
              "      <th>Google</th>\n",
              "      <td>1677.666667</td>\n",
              "      <td>1.000000</td>\n",
              "      <td>0.000000</td>\n",
              "      <td>234.507400</td>\n",
              "      <td>0.000000</td>\n",
              "      <td>298.666667</td>\n",
              "    </tr>\n",
              "    <tr>\n",
              "      <th>HP</th>\n",
              "      <td>1028.066811</td>\n",
              "      <td>0.124324</td>\n",
              "      <td>0.248649</td>\n",
              "      <td>143.891410</td>\n",
              "      <td>381.081081</td>\n",
              "      <td>171.459459</td>\n",
              "    </tr>\n",
              "    <tr>\n",
              "      <th>Huawei</th>\n",
              "      <td>1424.000000</td>\n",
              "      <td>0.000000</td>\n",
              "      <td>1.000000</td>\n",
              "      <td>199.692100</td>\n",
              "      <td>0.000000</td>\n",
              "      <td>384.000000</td>\n",
              "    </tr>\n",
              "    <tr>\n",
              "      <th>LG</th>\n",
              "      <td>2099.000000</td>\n",
              "      <td>0.666667</td>\n",
              "      <td>1.000000</td>\n",
              "      <td>146.591500</td>\n",
              "      <td>0.000000</td>\n",
              "      <td>512.000000</td>\n",
              "    </tr>\n",
              "    <tr>\n",
              "      <th>Lenovo</th>\n",
              "      <td>1078.845174</td>\n",
              "      <td>0.139130</td>\n",
              "      <td>0.439130</td>\n",
              "      <td>148.335169</td>\n",
              "      <td>356.521739</td>\n",
              "      <td>209.147826</td>\n",
              "    </tr>\n",
              "    <tr>\n",
              "      <th>MSI</th>\n",
              "      <td>1789.748235</td>\n",
              "      <td>0.000000</td>\n",
              "      <td>0.117647</td>\n",
              "      <td>142.014947</td>\n",
              "      <td>1000.000000</td>\n",
              "      <td>256.000000</td>\n",
              "    </tr>\n",
              "    <tr>\n",
              "      <th>Mediacom</th>\n",
              "      <td>295.000000</td>\n",
              "      <td>0.142857</td>\n",
              "      <td>0.714286</td>\n",
              "      <td>164.992414</td>\n",
              "      <td>4.571429</td>\n",
              "      <td>18.285714</td>\n",
              "    </tr>\n",
              "    <tr>\n",
              "      <th>Microsoft</th>\n",
              "      <td>1612.308333</td>\n",
              "      <td>1.000000</td>\n",
              "      <td>0.000000</td>\n",
              "      <td>200.842600</td>\n",
              "      <td>0.000000</td>\n",
              "      <td>256.000000</td>\n",
              "    </tr>\n",
              "    <tr>\n",
              "      <th>Razer</th>\n",
              "      <td>3779.000000</td>\n",
              "      <td>0.600000</td>\n",
              "      <td>0.200000</td>\n",
              "      <td>235.301740</td>\n",
              "      <td>0.000000</td>\n",
              "      <td>558.400000</td>\n",
              "    </tr>\n",
              "    <tr>\n",
              "      <th>Samsung</th>\n",
              "      <td>1507.750000</td>\n",
              "      <td>0.250000</td>\n",
              "      <td>0.000000</td>\n",
              "      <td>151.723000</td>\n",
              "      <td>125.000000</td>\n",
              "      <td>208.000000</td>\n",
              "    </tr>\n",
              "    <tr>\n",
              "      <th>Toshiba</th>\n",
              "      <td>1219.365854</td>\n",
              "      <td>0.121951</td>\n",
              "      <td>0.365854</td>\n",
              "      <td>138.808241</td>\n",
              "      <td>109.756098</td>\n",
              "      <td>218.536585</td>\n",
              "    </tr>\n",
              "    <tr>\n",
              "      <th>Vero</th>\n",
              "      <td>231.450000</td>\n",
              "      <td>0.000000</td>\n",
              "      <td>0.500000</td>\n",
              "      <td>157.350500</td>\n",
              "      <td>0.000000</td>\n",
              "      <td>0.000000</td>\n",
              "    </tr>\n",
              "    <tr>\n",
              "      <th>Xiaomi</th>\n",
              "      <td>1133.462500</td>\n",
              "      <td>0.000000</td>\n",
              "      <td>1.000000</td>\n",
              "      <td>153.422050</td>\n",
              "      <td>0.000000</td>\n",
              "      <td>256.000000</td>\n",
              "    </tr>\n",
              "  </tbody>\n",
              "</table>\n",
              "</div>\n",
              "    <div class=\"colab-df-buttons\">\n",
              "\n",
              "  <div class=\"colab-df-container\">\n",
              "    <button class=\"colab-df-convert\" onclick=\"convertToInteractive('df-69274120-5278-4cad-b4fe-a51b51ec2a8a')\"\n",
              "            title=\"Convert this dataframe to an interactive table.\"\n",
              "            style=\"display:none;\">\n",
              "\n",
              "  <svg xmlns=\"http://www.w3.org/2000/svg\" height=\"24px\" viewBox=\"0 -960 960 960\">\n",
              "    <path d=\"M120-120v-720h720v720H120Zm60-500h600v-160H180v160Zm220 220h160v-160H400v160Zm0 220h160v-160H400v160ZM180-400h160v-160H180v160Zm440 0h160v-160H620v160ZM180-180h160v-160H180v160Zm440 0h160v-160H620v160Z\"/>\n",
              "  </svg>\n",
              "    </button>\n",
              "\n",
              "  <style>\n",
              "    .colab-df-container {\n",
              "      display:flex;\n",
              "      gap: 12px;\n",
              "    }\n",
              "\n",
              "    .colab-df-convert {\n",
              "      background-color: #E8F0FE;\n",
              "      border: none;\n",
              "      border-radius: 50%;\n",
              "      cursor: pointer;\n",
              "      display: none;\n",
              "      fill: #1967D2;\n",
              "      height: 32px;\n",
              "      padding: 0 0 0 0;\n",
              "      width: 32px;\n",
              "    }\n",
              "\n",
              "    .colab-df-convert:hover {\n",
              "      background-color: #E2EBFA;\n",
              "      box-shadow: 0px 1px 2px rgba(60, 64, 67, 0.3), 0px 1px 3px 1px rgba(60, 64, 67, 0.15);\n",
              "      fill: #174EA6;\n",
              "    }\n",
              "\n",
              "    .colab-df-buttons div {\n",
              "      margin-bottom: 4px;\n",
              "    }\n",
              "\n",
              "    [theme=dark] .colab-df-convert {\n",
              "      background-color: #3B4455;\n",
              "      fill: #D2E3FC;\n",
              "    }\n",
              "\n",
              "    [theme=dark] .colab-df-convert:hover {\n",
              "      background-color: #434B5C;\n",
              "      box-shadow: 0px 1px 3px 1px rgba(0, 0, 0, 0.15);\n",
              "      filter: drop-shadow(0px 1px 2px rgba(0, 0, 0, 0.3));\n",
              "      fill: #FFFFFF;\n",
              "    }\n",
              "  </style>\n",
              "\n",
              "    <script>\n",
              "      const buttonEl =\n",
              "        document.querySelector('#df-69274120-5278-4cad-b4fe-a51b51ec2a8a button.colab-df-convert');\n",
              "      buttonEl.style.display =\n",
              "        google.colab.kernel.accessAllowed ? 'block' : 'none';\n",
              "\n",
              "      async function convertToInteractive(key) {\n",
              "        const element = document.querySelector('#df-69274120-5278-4cad-b4fe-a51b51ec2a8a');\n",
              "        const dataTable =\n",
              "          await google.colab.kernel.invokeFunction('convertToInteractive',\n",
              "                                                    [key], {});\n",
              "        if (!dataTable) return;\n",
              "\n",
              "        const docLinkHtml = 'Like what you see? Visit the ' +\n",
              "          '<a target=\"_blank\" href=https://colab.research.google.com/notebooks/data_table.ipynb>data table notebook</a>'\n",
              "          + ' to learn more about interactive tables.';\n",
              "        element.innerHTML = '';\n",
              "        dataTable['output_type'] = 'display_data';\n",
              "        await google.colab.output.renderOutput(dataTable, element);\n",
              "        const docLink = document.createElement('div');\n",
              "        docLink.innerHTML = docLinkHtml;\n",
              "        element.appendChild(docLink);\n",
              "      }\n",
              "    </script>\n",
              "  </div>\n",
              "\n",
              "\n",
              "<div id=\"df-88401bf3-b0b3-48a8-a435-b5371c5e94ca\">\n",
              "  <button class=\"colab-df-quickchart\" onclick=\"quickchart('df-88401bf3-b0b3-48a8-a435-b5371c5e94ca')\"\n",
              "            title=\"Suggest charts.\"\n",
              "            style=\"display:none;\">\n",
              "\n",
              "<svg xmlns=\"http://www.w3.org/2000/svg\" height=\"24px\"viewBox=\"0 0 24 24\"\n",
              "     width=\"24px\">\n",
              "    <g>\n",
              "        <path d=\"M19 3H5c-1.1 0-2 .9-2 2v14c0 1.1.9 2 2 2h14c1.1 0 2-.9 2-2V5c0-1.1-.9-2-2-2zM9 17H7v-7h2v7zm4 0h-2V7h2v10zm4 0h-2v-4h2v4z\"/>\n",
              "    </g>\n",
              "</svg>\n",
              "  </button>\n",
              "\n",
              "<style>\n",
              "  .colab-df-quickchart {\n",
              "      --bg-color: #E8F0FE;\n",
              "      --fill-color: #1967D2;\n",
              "      --hover-bg-color: #E2EBFA;\n",
              "      --hover-fill-color: #174EA6;\n",
              "      --disabled-fill-color: #AAA;\n",
              "      --disabled-bg-color: #DDD;\n",
              "  }\n",
              "\n",
              "  [theme=dark] .colab-df-quickchart {\n",
              "      --bg-color: #3B4455;\n",
              "      --fill-color: #D2E3FC;\n",
              "      --hover-bg-color: #434B5C;\n",
              "      --hover-fill-color: #FFFFFF;\n",
              "      --disabled-bg-color: #3B4455;\n",
              "      --disabled-fill-color: #666;\n",
              "  }\n",
              "\n",
              "  .colab-df-quickchart {\n",
              "    background-color: var(--bg-color);\n",
              "    border: none;\n",
              "    border-radius: 50%;\n",
              "    cursor: pointer;\n",
              "    display: none;\n",
              "    fill: var(--fill-color);\n",
              "    height: 32px;\n",
              "    padding: 0;\n",
              "    width: 32px;\n",
              "  }\n",
              "\n",
              "  .colab-df-quickchart:hover {\n",
              "    background-color: var(--hover-bg-color);\n",
              "    box-shadow: 0 1px 2px rgba(60, 64, 67, 0.3), 0 1px 3px 1px rgba(60, 64, 67, 0.15);\n",
              "    fill: var(--button-hover-fill-color);\n",
              "  }\n",
              "\n",
              "  .colab-df-quickchart-complete:disabled,\n",
              "  .colab-df-quickchart-complete:disabled:hover {\n",
              "    background-color: var(--disabled-bg-color);\n",
              "    fill: var(--disabled-fill-color);\n",
              "    box-shadow: none;\n",
              "  }\n",
              "\n",
              "  .colab-df-spinner {\n",
              "    border: 2px solid var(--fill-color);\n",
              "    border-color: transparent;\n",
              "    border-bottom-color: var(--fill-color);\n",
              "    animation:\n",
              "      spin 1s steps(1) infinite;\n",
              "  }\n",
              "\n",
              "  @keyframes spin {\n",
              "    0% {\n",
              "      border-color: transparent;\n",
              "      border-bottom-color: var(--fill-color);\n",
              "      border-left-color: var(--fill-color);\n",
              "    }\n",
              "    20% {\n",
              "      border-color: transparent;\n",
              "      border-left-color: var(--fill-color);\n",
              "      border-top-color: var(--fill-color);\n",
              "    }\n",
              "    30% {\n",
              "      border-color: transparent;\n",
              "      border-left-color: var(--fill-color);\n",
              "      border-top-color: var(--fill-color);\n",
              "      border-right-color: var(--fill-color);\n",
              "    }\n",
              "    40% {\n",
              "      border-color: transparent;\n",
              "      border-right-color: var(--fill-color);\n",
              "      border-top-color: var(--fill-color);\n",
              "    }\n",
              "    60% {\n",
              "      border-color: transparent;\n",
              "      border-right-color: var(--fill-color);\n",
              "    }\n",
              "    80% {\n",
              "      border-color: transparent;\n",
              "      border-right-color: var(--fill-color);\n",
              "      border-bottom-color: var(--fill-color);\n",
              "    }\n",
              "    90% {\n",
              "      border-color: transparent;\n",
              "      border-bottom-color: var(--fill-color);\n",
              "    }\n",
              "  }\n",
              "</style>\n",
              "\n",
              "  <script>\n",
              "    async function quickchart(key) {\n",
              "      const quickchartButtonEl =\n",
              "        document.querySelector('#' + key + ' button');\n",
              "      quickchartButtonEl.disabled = true;  // To prevent multiple clicks.\n",
              "      quickchartButtonEl.classList.add('colab-df-spinner');\n",
              "      try {\n",
              "        const charts = await google.colab.kernel.invokeFunction(\n",
              "            'suggestCharts', [key], {});\n",
              "      } catch (error) {\n",
              "        console.error('Error during call to suggestCharts:', error);\n",
              "      }\n",
              "      quickchartButtonEl.classList.remove('colab-df-spinner');\n",
              "      quickchartButtonEl.classList.add('colab-df-quickchart-complete');\n",
              "    }\n",
              "    (() => {\n",
              "      let quickchartButtonEl =\n",
              "        document.querySelector('#df-88401bf3-b0b3-48a8-a435-b5371c5e94ca button');\n",
              "      quickchartButtonEl.style.display =\n",
              "        google.colab.kernel.accessAllowed ? 'block' : 'none';\n",
              "    })();\n",
              "  </script>\n",
              "</div>\n",
              "    </div>\n",
              "  </div>\n"
            ]
          },
          "metadata": {},
          "execution_count": 158
        }
      ]
    },
    {
      "cell_type": "code",
      "source": [
        "df['TypeName'].unique()\n",
        "print(df['TypeName'].unique())\n",
        "df['TypeName'].nunique()"
      ],
      "metadata": {
        "colab": {
          "base_uri": "https://localhost:8080/"
        },
        "id": "Uai1hnRVYkes",
        "outputId": "fa072a2a-1245-4b06-b447-25a09d64d978"
      },
      "execution_count": 159,
      "outputs": [
        {
          "output_type": "stream",
          "name": "stdout",
          "text": [
            "['Ultrabook' 'Notebook' 'Netbook' 'Gaming' '2 in 1 Convertible'\n",
            " 'Workstation']\n"
          ]
        },
        {
          "output_type": "execute_result",
          "data": {
            "text/plain": [
              "6"
            ]
          },
          "metadata": {},
          "execution_count": 159
        }
      ]
    },
    {
      "cell_type": "code",
      "source": [
        "df.corr()"
      ],
      "metadata": {
        "colab": {
          "base_uri": "https://localhost:8080/",
          "height": 292
        },
        "id": "JHCKeRBQc8Ov",
        "outputId": "132146f6-ad81-4eac-9c0b-c337226cbc79"
      },
      "execution_count": 160,
      "outputs": [
        {
          "output_type": "stream",
          "name": "stderr",
          "text": [
            "<ipython-input-160-2f6f6606aa2c>:1: FutureWarning: The default value of numeric_only in DataFrame.corr is deprecated. In a future version, it will default to False. Select only valid columns or specify the value of numeric_only to silence this warning.\n",
            "  df.corr()\n"
          ]
        },
        {
          "output_type": "execute_result",
          "data": {
            "text/plain": [
              "             Price_euros  TouchScreen       Ips       Ppi       HDD       SSD\n",
              "Price_euros     1.000000     0.206781  0.233805  0.498427 -0.085800  0.672259\n",
              "TouchScreen     0.206781     1.000000  0.100658  0.438605 -0.185452  0.244080\n",
              "Ips             0.233805     0.100658  1.000000  0.303626 -0.108383  0.214483\n",
              "Ppi             0.498427     0.438605  0.303626  1.000000 -0.275068  0.524033\n",
              "HDD            -0.085800    -0.185452 -0.108383 -0.275068  1.000000 -0.391658\n",
              "SSD             0.672259     0.244080  0.214483  0.524033 -0.391658  1.000000"
            ],
            "text/html": [
              "\n",
              "  <div id=\"df-3e4ae832-9f65-4467-bfa9-dd483dddaff1\" class=\"colab-df-container\">\n",
              "    <div>\n",
              "<style scoped>\n",
              "    .dataframe tbody tr th:only-of-type {\n",
              "        vertical-align: middle;\n",
              "    }\n",
              "\n",
              "    .dataframe tbody tr th {\n",
              "        vertical-align: top;\n",
              "    }\n",
              "\n",
              "    .dataframe thead th {\n",
              "        text-align: right;\n",
              "    }\n",
              "</style>\n",
              "<table border=\"1\" class=\"dataframe\">\n",
              "  <thead>\n",
              "    <tr style=\"text-align: right;\">\n",
              "      <th></th>\n",
              "      <th>Price_euros</th>\n",
              "      <th>TouchScreen</th>\n",
              "      <th>Ips</th>\n",
              "      <th>Ppi</th>\n",
              "      <th>HDD</th>\n",
              "      <th>SSD</th>\n",
              "    </tr>\n",
              "  </thead>\n",
              "  <tbody>\n",
              "    <tr>\n",
              "      <th>Price_euros</th>\n",
              "      <td>1.000000</td>\n",
              "      <td>0.206781</td>\n",
              "      <td>0.233805</td>\n",
              "      <td>0.498427</td>\n",
              "      <td>-0.085800</td>\n",
              "      <td>0.672259</td>\n",
              "    </tr>\n",
              "    <tr>\n",
              "      <th>TouchScreen</th>\n",
              "      <td>0.206781</td>\n",
              "      <td>1.000000</td>\n",
              "      <td>0.100658</td>\n",
              "      <td>0.438605</td>\n",
              "      <td>-0.185452</td>\n",
              "      <td>0.244080</td>\n",
              "    </tr>\n",
              "    <tr>\n",
              "      <th>Ips</th>\n",
              "      <td>0.233805</td>\n",
              "      <td>0.100658</td>\n",
              "      <td>1.000000</td>\n",
              "      <td>0.303626</td>\n",
              "      <td>-0.108383</td>\n",
              "      <td>0.214483</td>\n",
              "    </tr>\n",
              "    <tr>\n",
              "      <th>Ppi</th>\n",
              "      <td>0.498427</td>\n",
              "      <td>0.438605</td>\n",
              "      <td>0.303626</td>\n",
              "      <td>1.000000</td>\n",
              "      <td>-0.275068</td>\n",
              "      <td>0.524033</td>\n",
              "    </tr>\n",
              "    <tr>\n",
              "      <th>HDD</th>\n",
              "      <td>-0.085800</td>\n",
              "      <td>-0.185452</td>\n",
              "      <td>-0.108383</td>\n",
              "      <td>-0.275068</td>\n",
              "      <td>1.000000</td>\n",
              "      <td>-0.391658</td>\n",
              "    </tr>\n",
              "    <tr>\n",
              "      <th>SSD</th>\n",
              "      <td>0.672259</td>\n",
              "      <td>0.244080</td>\n",
              "      <td>0.214483</td>\n",
              "      <td>0.524033</td>\n",
              "      <td>-0.391658</td>\n",
              "      <td>1.000000</td>\n",
              "    </tr>\n",
              "  </tbody>\n",
              "</table>\n",
              "</div>\n",
              "    <div class=\"colab-df-buttons\">\n",
              "\n",
              "  <div class=\"colab-df-container\">\n",
              "    <button class=\"colab-df-convert\" onclick=\"convertToInteractive('df-3e4ae832-9f65-4467-bfa9-dd483dddaff1')\"\n",
              "            title=\"Convert this dataframe to an interactive table.\"\n",
              "            style=\"display:none;\">\n",
              "\n",
              "  <svg xmlns=\"http://www.w3.org/2000/svg\" height=\"24px\" viewBox=\"0 -960 960 960\">\n",
              "    <path d=\"M120-120v-720h720v720H120Zm60-500h600v-160H180v160Zm220 220h160v-160H400v160Zm0 220h160v-160H400v160ZM180-400h160v-160H180v160Zm440 0h160v-160H620v160ZM180-180h160v-160H180v160Zm440 0h160v-160H620v160Z\"/>\n",
              "  </svg>\n",
              "    </button>\n",
              "\n",
              "  <style>\n",
              "    .colab-df-container {\n",
              "      display:flex;\n",
              "      gap: 12px;\n",
              "    }\n",
              "\n",
              "    .colab-df-convert {\n",
              "      background-color: #E8F0FE;\n",
              "      border: none;\n",
              "      border-radius: 50%;\n",
              "      cursor: pointer;\n",
              "      display: none;\n",
              "      fill: #1967D2;\n",
              "      height: 32px;\n",
              "      padding: 0 0 0 0;\n",
              "      width: 32px;\n",
              "    }\n",
              "\n",
              "    .colab-df-convert:hover {\n",
              "      background-color: #E2EBFA;\n",
              "      box-shadow: 0px 1px 2px rgba(60, 64, 67, 0.3), 0px 1px 3px 1px rgba(60, 64, 67, 0.15);\n",
              "      fill: #174EA6;\n",
              "    }\n",
              "\n",
              "    .colab-df-buttons div {\n",
              "      margin-bottom: 4px;\n",
              "    }\n",
              "\n",
              "    [theme=dark] .colab-df-convert {\n",
              "      background-color: #3B4455;\n",
              "      fill: #D2E3FC;\n",
              "    }\n",
              "\n",
              "    [theme=dark] .colab-df-convert:hover {\n",
              "      background-color: #434B5C;\n",
              "      box-shadow: 0px 1px 3px 1px rgba(0, 0, 0, 0.15);\n",
              "      filter: drop-shadow(0px 1px 2px rgba(0, 0, 0, 0.3));\n",
              "      fill: #FFFFFF;\n",
              "    }\n",
              "  </style>\n",
              "\n",
              "    <script>\n",
              "      const buttonEl =\n",
              "        document.querySelector('#df-3e4ae832-9f65-4467-bfa9-dd483dddaff1 button.colab-df-convert');\n",
              "      buttonEl.style.display =\n",
              "        google.colab.kernel.accessAllowed ? 'block' : 'none';\n",
              "\n",
              "      async function convertToInteractive(key) {\n",
              "        const element = document.querySelector('#df-3e4ae832-9f65-4467-bfa9-dd483dddaff1');\n",
              "        const dataTable =\n",
              "          await google.colab.kernel.invokeFunction('convertToInteractive',\n",
              "                                                    [key], {});\n",
              "        if (!dataTable) return;\n",
              "\n",
              "        const docLinkHtml = 'Like what you see? Visit the ' +\n",
              "          '<a target=\"_blank\" href=https://colab.research.google.com/notebooks/data_table.ipynb>data table notebook</a>'\n",
              "          + ' to learn more about interactive tables.';\n",
              "        element.innerHTML = '';\n",
              "        dataTable['output_type'] = 'display_data';\n",
              "        await google.colab.output.renderOutput(dataTable, element);\n",
              "        const docLink = document.createElement('div');\n",
              "        docLink.innerHTML = docLinkHtml;\n",
              "        element.appendChild(docLink);\n",
              "      }\n",
              "    </script>\n",
              "  </div>\n",
              "\n",
              "\n",
              "<div id=\"df-c2ebbcc5-d33c-4c70-99f1-0d337981cfa1\">\n",
              "  <button class=\"colab-df-quickchart\" onclick=\"quickchart('df-c2ebbcc5-d33c-4c70-99f1-0d337981cfa1')\"\n",
              "            title=\"Suggest charts.\"\n",
              "            style=\"display:none;\">\n",
              "\n",
              "<svg xmlns=\"http://www.w3.org/2000/svg\" height=\"24px\"viewBox=\"0 0 24 24\"\n",
              "     width=\"24px\">\n",
              "    <g>\n",
              "        <path d=\"M19 3H5c-1.1 0-2 .9-2 2v14c0 1.1.9 2 2 2h14c1.1 0 2-.9 2-2V5c0-1.1-.9-2-2-2zM9 17H7v-7h2v7zm4 0h-2V7h2v10zm4 0h-2v-4h2v4z\"/>\n",
              "    </g>\n",
              "</svg>\n",
              "  </button>\n",
              "\n",
              "<style>\n",
              "  .colab-df-quickchart {\n",
              "      --bg-color: #E8F0FE;\n",
              "      --fill-color: #1967D2;\n",
              "      --hover-bg-color: #E2EBFA;\n",
              "      --hover-fill-color: #174EA6;\n",
              "      --disabled-fill-color: #AAA;\n",
              "      --disabled-bg-color: #DDD;\n",
              "  }\n",
              "\n",
              "  [theme=dark] .colab-df-quickchart {\n",
              "      --bg-color: #3B4455;\n",
              "      --fill-color: #D2E3FC;\n",
              "      --hover-bg-color: #434B5C;\n",
              "      --hover-fill-color: #FFFFFF;\n",
              "      --disabled-bg-color: #3B4455;\n",
              "      --disabled-fill-color: #666;\n",
              "  }\n",
              "\n",
              "  .colab-df-quickchart {\n",
              "    background-color: var(--bg-color);\n",
              "    border: none;\n",
              "    border-radius: 50%;\n",
              "    cursor: pointer;\n",
              "    display: none;\n",
              "    fill: var(--fill-color);\n",
              "    height: 32px;\n",
              "    padding: 0;\n",
              "    width: 32px;\n",
              "  }\n",
              "\n",
              "  .colab-df-quickchart:hover {\n",
              "    background-color: var(--hover-bg-color);\n",
              "    box-shadow: 0 1px 2px rgba(60, 64, 67, 0.3), 0 1px 3px 1px rgba(60, 64, 67, 0.15);\n",
              "    fill: var(--button-hover-fill-color);\n",
              "  }\n",
              "\n",
              "  .colab-df-quickchart-complete:disabled,\n",
              "  .colab-df-quickchart-complete:disabled:hover {\n",
              "    background-color: var(--disabled-bg-color);\n",
              "    fill: var(--disabled-fill-color);\n",
              "    box-shadow: none;\n",
              "  }\n",
              "\n",
              "  .colab-df-spinner {\n",
              "    border: 2px solid var(--fill-color);\n",
              "    border-color: transparent;\n",
              "    border-bottom-color: var(--fill-color);\n",
              "    animation:\n",
              "      spin 1s steps(1) infinite;\n",
              "  }\n",
              "\n",
              "  @keyframes spin {\n",
              "    0% {\n",
              "      border-color: transparent;\n",
              "      border-bottom-color: var(--fill-color);\n",
              "      border-left-color: var(--fill-color);\n",
              "    }\n",
              "    20% {\n",
              "      border-color: transparent;\n",
              "      border-left-color: var(--fill-color);\n",
              "      border-top-color: var(--fill-color);\n",
              "    }\n",
              "    30% {\n",
              "      border-color: transparent;\n",
              "      border-left-color: var(--fill-color);\n",
              "      border-top-color: var(--fill-color);\n",
              "      border-right-color: var(--fill-color);\n",
              "    }\n",
              "    40% {\n",
              "      border-color: transparent;\n",
              "      border-right-color: var(--fill-color);\n",
              "      border-top-color: var(--fill-color);\n",
              "    }\n",
              "    60% {\n",
              "      border-color: transparent;\n",
              "      border-right-color: var(--fill-color);\n",
              "    }\n",
              "    80% {\n",
              "      border-color: transparent;\n",
              "      border-right-color: var(--fill-color);\n",
              "      border-bottom-color: var(--fill-color);\n",
              "    }\n",
              "    90% {\n",
              "      border-color: transparent;\n",
              "      border-bottom-color: var(--fill-color);\n",
              "    }\n",
              "  }\n",
              "</style>\n",
              "\n",
              "  <script>\n",
              "    async function quickchart(key) {\n",
              "      const quickchartButtonEl =\n",
              "        document.querySelector('#' + key + ' button');\n",
              "      quickchartButtonEl.disabled = true;  // To prevent multiple clicks.\n",
              "      quickchartButtonEl.classList.add('colab-df-spinner');\n",
              "      try {\n",
              "        const charts = await google.colab.kernel.invokeFunction(\n",
              "            'suggestCharts', [key], {});\n",
              "      } catch (error) {\n",
              "        console.error('Error during call to suggestCharts:', error);\n",
              "      }\n",
              "      quickchartButtonEl.classList.remove('colab-df-spinner');\n",
              "      quickchartButtonEl.classList.add('colab-df-quickchart-complete');\n",
              "    }\n",
              "    (() => {\n",
              "      let quickchartButtonEl =\n",
              "        document.querySelector('#df-c2ebbcc5-d33c-4c70-99f1-0d337981cfa1 button');\n",
              "      quickchartButtonEl.style.display =\n",
              "        google.colab.kernel.accessAllowed ? 'block' : 'none';\n",
              "    })();\n",
              "  </script>\n",
              "</div>\n",
              "    </div>\n",
              "  </div>\n"
            ]
          },
          "metadata": {},
          "execution_count": 160
        }
      ]
    },
    {
      "cell_type": "code",
      "source": [
        "pd.pivot_table(df,values='Price_euros',index='Company',columns='TypeName',aggfunc='mean')"
      ],
      "metadata": {
        "colab": {
          "base_uri": "https://localhost:8080/",
          "height": 677
        },
        "id": "EVMApV66dHC5",
        "outputId": "700a4dde-933c-4a47-e7b3-7628cb1b4a61"
      },
      "execution_count": 161,
      "outputs": [
        {
          "output_type": "execute_result",
          "data": {
            "text/plain": [
              "TypeName   2 in 1 Convertible       Gaming      Netbook     Notebook  \\\n",
              "Company                                                                \n",
              "Acer               634.430000  1314.333333   339.000000   563.652381   \n",
              "Apple                     NaN          NaN          NaN          NaN   \n",
              "Asus               976.385385  1672.670000   258.966667   638.887037   \n",
              "Chuwi                     NaN          NaN          NaN   314.296667   \n",
              "Dell              1114.742632  1993.353333   519.500000   915.349091   \n",
              "Fujitsu                   NaN          NaN          NaN   729.000000   \n",
              "Google                    NaN          NaN          NaN          NaN   \n",
              "HP                1447.524375  1506.100000  1366.800000   757.293689   \n",
              "Huawei                    NaN          NaN          NaN          NaN   \n",
              "LG                        NaN          NaN          NaN          NaN   \n",
              "Lenovo            1638.174839  1201.478261   431.000000   776.216503   \n",
              "MSI                       NaN  1789.748235          NaN          NaN   \n",
              "Mediacom           299.000000          NaN          NaN   294.333333   \n",
              "Microsoft                 NaN          NaN          NaN          NaN   \n",
              "Razer                     NaN  4274.000000          NaN          NaN   \n",
              "Samsung           1799.000000          NaN   269.000000  1699.000000   \n",
              "Toshiba                   NaN          NaN          NaN  1081.375000   \n",
              "Vero                      NaN          NaN          NaN   231.450000   \n",
              "Xiaomi                    NaN          NaN          NaN  1299.475000   \n",
              "\n",
              "TypeName     Ultrabook  Workstation  \n",
              "Company                              \n",
              "Acer        890.500000          NaN  \n",
              "Apple      1655.715882          NaN  \n",
              "Asus       1396.112500          NaN  \n",
              "Chuwi              NaN          NaN  \n",
              "Dell       1464.862973  2219.169091  \n",
              "Fujitsu            NaN          NaN  \n",
              "Google     1677.666667          NaN  \n",
              "HP         1435.782174  2191.572222  \n",
              "Huawei     1424.000000          NaN  \n",
              "LG         2099.000000          NaN  \n",
              "Lenovo     1842.346538  2381.000000  \n",
              "MSI                NaN          NaN  \n",
              "Mediacom           NaN          NaN  \n",
              "Microsoft  1612.308333          NaN  \n",
              "Razer      1799.000000          NaN  \n",
              "Samsung    1659.000000          NaN  \n",
              "Toshiba    1710.000000          NaN  \n",
              "Vero               NaN          NaN  \n",
              "Xiaomi      967.450000          NaN  "
            ],
            "text/html": [
              "\n",
              "  <div id=\"df-8f8f556f-2609-4d6e-9adc-80dc8edb94c1\" class=\"colab-df-container\">\n",
              "    <div>\n",
              "<style scoped>\n",
              "    .dataframe tbody tr th:only-of-type {\n",
              "        vertical-align: middle;\n",
              "    }\n",
              "\n",
              "    .dataframe tbody tr th {\n",
              "        vertical-align: top;\n",
              "    }\n",
              "\n",
              "    .dataframe thead th {\n",
              "        text-align: right;\n",
              "    }\n",
              "</style>\n",
              "<table border=\"1\" class=\"dataframe\">\n",
              "  <thead>\n",
              "    <tr style=\"text-align: right;\">\n",
              "      <th>TypeName</th>\n",
              "      <th>2 in 1 Convertible</th>\n",
              "      <th>Gaming</th>\n",
              "      <th>Netbook</th>\n",
              "      <th>Notebook</th>\n",
              "      <th>Ultrabook</th>\n",
              "      <th>Workstation</th>\n",
              "    </tr>\n",
              "    <tr>\n",
              "      <th>Company</th>\n",
              "      <th></th>\n",
              "      <th></th>\n",
              "      <th></th>\n",
              "      <th></th>\n",
              "      <th></th>\n",
              "      <th></th>\n",
              "    </tr>\n",
              "  </thead>\n",
              "  <tbody>\n",
              "    <tr>\n",
              "      <th>Acer</th>\n",
              "      <td>634.430000</td>\n",
              "      <td>1314.333333</td>\n",
              "      <td>339.000000</td>\n",
              "      <td>563.652381</td>\n",
              "      <td>890.500000</td>\n",
              "      <td>NaN</td>\n",
              "    </tr>\n",
              "    <tr>\n",
              "      <th>Apple</th>\n",
              "      <td>NaN</td>\n",
              "      <td>NaN</td>\n",
              "      <td>NaN</td>\n",
              "      <td>NaN</td>\n",
              "      <td>1655.715882</td>\n",
              "      <td>NaN</td>\n",
              "    </tr>\n",
              "    <tr>\n",
              "      <th>Asus</th>\n",
              "      <td>976.385385</td>\n",
              "      <td>1672.670000</td>\n",
              "      <td>258.966667</td>\n",
              "      <td>638.887037</td>\n",
              "      <td>1396.112500</td>\n",
              "      <td>NaN</td>\n",
              "    </tr>\n",
              "    <tr>\n",
              "      <th>Chuwi</th>\n",
              "      <td>NaN</td>\n",
              "      <td>NaN</td>\n",
              "      <td>NaN</td>\n",
              "      <td>314.296667</td>\n",
              "      <td>NaN</td>\n",
              "      <td>NaN</td>\n",
              "    </tr>\n",
              "    <tr>\n",
              "      <th>Dell</th>\n",
              "      <td>1114.742632</td>\n",
              "      <td>1993.353333</td>\n",
              "      <td>519.500000</td>\n",
              "      <td>915.349091</td>\n",
              "      <td>1464.862973</td>\n",
              "      <td>2219.169091</td>\n",
              "    </tr>\n",
              "    <tr>\n",
              "      <th>Fujitsu</th>\n",
              "      <td>NaN</td>\n",
              "      <td>NaN</td>\n",
              "      <td>NaN</td>\n",
              "      <td>729.000000</td>\n",
              "      <td>NaN</td>\n",
              "      <td>NaN</td>\n",
              "    </tr>\n",
              "    <tr>\n",
              "      <th>Google</th>\n",
              "      <td>NaN</td>\n",
              "      <td>NaN</td>\n",
              "      <td>NaN</td>\n",
              "      <td>NaN</td>\n",
              "      <td>1677.666667</td>\n",
              "      <td>NaN</td>\n",
              "    </tr>\n",
              "    <tr>\n",
              "      <th>HP</th>\n",
              "      <td>1447.524375</td>\n",
              "      <td>1506.100000</td>\n",
              "      <td>1366.800000</td>\n",
              "      <td>757.293689</td>\n",
              "      <td>1435.782174</td>\n",
              "      <td>2191.572222</td>\n",
              "    </tr>\n",
              "    <tr>\n",
              "      <th>Huawei</th>\n",
              "      <td>NaN</td>\n",
              "      <td>NaN</td>\n",
              "      <td>NaN</td>\n",
              "      <td>NaN</td>\n",
              "      <td>1424.000000</td>\n",
              "      <td>NaN</td>\n",
              "    </tr>\n",
              "    <tr>\n",
              "      <th>LG</th>\n",
              "      <td>NaN</td>\n",
              "      <td>NaN</td>\n",
              "      <td>NaN</td>\n",
              "      <td>NaN</td>\n",
              "      <td>2099.000000</td>\n",
              "      <td>NaN</td>\n",
              "    </tr>\n",
              "    <tr>\n",
              "      <th>Lenovo</th>\n",
              "      <td>1638.174839</td>\n",
              "      <td>1201.478261</td>\n",
              "      <td>431.000000</td>\n",
              "      <td>776.216503</td>\n",
              "      <td>1842.346538</td>\n",
              "      <td>2381.000000</td>\n",
              "    </tr>\n",
              "    <tr>\n",
              "      <th>MSI</th>\n",
              "      <td>NaN</td>\n",
              "      <td>1789.748235</td>\n",
              "      <td>NaN</td>\n",
              "      <td>NaN</td>\n",
              "      <td>NaN</td>\n",
              "      <td>NaN</td>\n",
              "    </tr>\n",
              "    <tr>\n",
              "      <th>Mediacom</th>\n",
              "      <td>299.000000</td>\n",
              "      <td>NaN</td>\n",
              "      <td>NaN</td>\n",
              "      <td>294.333333</td>\n",
              "      <td>NaN</td>\n",
              "      <td>NaN</td>\n",
              "    </tr>\n",
              "    <tr>\n",
              "      <th>Microsoft</th>\n",
              "      <td>NaN</td>\n",
              "      <td>NaN</td>\n",
              "      <td>NaN</td>\n",
              "      <td>NaN</td>\n",
              "      <td>1612.308333</td>\n",
              "      <td>NaN</td>\n",
              "    </tr>\n",
              "    <tr>\n",
              "      <th>Razer</th>\n",
              "      <td>NaN</td>\n",
              "      <td>4274.000000</td>\n",
              "      <td>NaN</td>\n",
              "      <td>NaN</td>\n",
              "      <td>1799.000000</td>\n",
              "      <td>NaN</td>\n",
              "    </tr>\n",
              "    <tr>\n",
              "      <th>Samsung</th>\n",
              "      <td>1799.000000</td>\n",
              "      <td>NaN</td>\n",
              "      <td>269.000000</td>\n",
              "      <td>1699.000000</td>\n",
              "      <td>1659.000000</td>\n",
              "      <td>NaN</td>\n",
              "    </tr>\n",
              "    <tr>\n",
              "      <th>Toshiba</th>\n",
              "      <td>NaN</td>\n",
              "      <td>NaN</td>\n",
              "      <td>NaN</td>\n",
              "      <td>1081.375000</td>\n",
              "      <td>1710.000000</td>\n",
              "      <td>NaN</td>\n",
              "    </tr>\n",
              "    <tr>\n",
              "      <th>Vero</th>\n",
              "      <td>NaN</td>\n",
              "      <td>NaN</td>\n",
              "      <td>NaN</td>\n",
              "      <td>231.450000</td>\n",
              "      <td>NaN</td>\n",
              "      <td>NaN</td>\n",
              "    </tr>\n",
              "    <tr>\n",
              "      <th>Xiaomi</th>\n",
              "      <td>NaN</td>\n",
              "      <td>NaN</td>\n",
              "      <td>NaN</td>\n",
              "      <td>1299.475000</td>\n",
              "      <td>967.450000</td>\n",
              "      <td>NaN</td>\n",
              "    </tr>\n",
              "  </tbody>\n",
              "</table>\n",
              "</div>\n",
              "    <div class=\"colab-df-buttons\">\n",
              "\n",
              "  <div class=\"colab-df-container\">\n",
              "    <button class=\"colab-df-convert\" onclick=\"convertToInteractive('df-8f8f556f-2609-4d6e-9adc-80dc8edb94c1')\"\n",
              "            title=\"Convert this dataframe to an interactive table.\"\n",
              "            style=\"display:none;\">\n",
              "\n",
              "  <svg xmlns=\"http://www.w3.org/2000/svg\" height=\"24px\" viewBox=\"0 -960 960 960\">\n",
              "    <path d=\"M120-120v-720h720v720H120Zm60-500h600v-160H180v160Zm220 220h160v-160H400v160Zm0 220h160v-160H400v160ZM180-400h160v-160H180v160Zm440 0h160v-160H620v160ZM180-180h160v-160H180v160Zm440 0h160v-160H620v160Z\"/>\n",
              "  </svg>\n",
              "    </button>\n",
              "\n",
              "  <style>\n",
              "    .colab-df-container {\n",
              "      display:flex;\n",
              "      gap: 12px;\n",
              "    }\n",
              "\n",
              "    .colab-df-convert {\n",
              "      background-color: #E8F0FE;\n",
              "      border: none;\n",
              "      border-radius: 50%;\n",
              "      cursor: pointer;\n",
              "      display: none;\n",
              "      fill: #1967D2;\n",
              "      height: 32px;\n",
              "      padding: 0 0 0 0;\n",
              "      width: 32px;\n",
              "    }\n",
              "\n",
              "    .colab-df-convert:hover {\n",
              "      background-color: #E2EBFA;\n",
              "      box-shadow: 0px 1px 2px rgba(60, 64, 67, 0.3), 0px 1px 3px 1px rgba(60, 64, 67, 0.15);\n",
              "      fill: #174EA6;\n",
              "    }\n",
              "\n",
              "    .colab-df-buttons div {\n",
              "      margin-bottom: 4px;\n",
              "    }\n",
              "\n",
              "    [theme=dark] .colab-df-convert {\n",
              "      background-color: #3B4455;\n",
              "      fill: #D2E3FC;\n",
              "    }\n",
              "\n",
              "    [theme=dark] .colab-df-convert:hover {\n",
              "      background-color: #434B5C;\n",
              "      box-shadow: 0px 1px 3px 1px rgba(0, 0, 0, 0.15);\n",
              "      filter: drop-shadow(0px 1px 2px rgba(0, 0, 0, 0.3));\n",
              "      fill: #FFFFFF;\n",
              "    }\n",
              "  </style>\n",
              "\n",
              "    <script>\n",
              "      const buttonEl =\n",
              "        document.querySelector('#df-8f8f556f-2609-4d6e-9adc-80dc8edb94c1 button.colab-df-convert');\n",
              "      buttonEl.style.display =\n",
              "        google.colab.kernel.accessAllowed ? 'block' : 'none';\n",
              "\n",
              "      async function convertToInteractive(key) {\n",
              "        const element = document.querySelector('#df-8f8f556f-2609-4d6e-9adc-80dc8edb94c1');\n",
              "        const dataTable =\n",
              "          await google.colab.kernel.invokeFunction('convertToInteractive',\n",
              "                                                    [key], {});\n",
              "        if (!dataTable) return;\n",
              "\n",
              "        const docLinkHtml = 'Like what you see? Visit the ' +\n",
              "          '<a target=\"_blank\" href=https://colab.research.google.com/notebooks/data_table.ipynb>data table notebook</a>'\n",
              "          + ' to learn more about interactive tables.';\n",
              "        element.innerHTML = '';\n",
              "        dataTable['output_type'] = 'display_data';\n",
              "        await google.colab.output.renderOutput(dataTable, element);\n",
              "        const docLink = document.createElement('div');\n",
              "        docLink.innerHTML = docLinkHtml;\n",
              "        element.appendChild(docLink);\n",
              "      }\n",
              "    </script>\n",
              "  </div>\n",
              "\n",
              "\n",
              "<div id=\"df-160db391-cd7c-407a-a7e8-abfeceb5a324\">\n",
              "  <button class=\"colab-df-quickchart\" onclick=\"quickchart('df-160db391-cd7c-407a-a7e8-abfeceb5a324')\"\n",
              "            title=\"Suggest charts.\"\n",
              "            style=\"display:none;\">\n",
              "\n",
              "<svg xmlns=\"http://www.w3.org/2000/svg\" height=\"24px\"viewBox=\"0 0 24 24\"\n",
              "     width=\"24px\">\n",
              "    <g>\n",
              "        <path d=\"M19 3H5c-1.1 0-2 .9-2 2v14c0 1.1.9 2 2 2h14c1.1 0 2-.9 2-2V5c0-1.1-.9-2-2-2zM9 17H7v-7h2v7zm4 0h-2V7h2v10zm4 0h-2v-4h2v4z\"/>\n",
              "    </g>\n",
              "</svg>\n",
              "  </button>\n",
              "\n",
              "<style>\n",
              "  .colab-df-quickchart {\n",
              "      --bg-color: #E8F0FE;\n",
              "      --fill-color: #1967D2;\n",
              "      --hover-bg-color: #E2EBFA;\n",
              "      --hover-fill-color: #174EA6;\n",
              "      --disabled-fill-color: #AAA;\n",
              "      --disabled-bg-color: #DDD;\n",
              "  }\n",
              "\n",
              "  [theme=dark] .colab-df-quickchart {\n",
              "      --bg-color: #3B4455;\n",
              "      --fill-color: #D2E3FC;\n",
              "      --hover-bg-color: #434B5C;\n",
              "      --hover-fill-color: #FFFFFF;\n",
              "      --disabled-bg-color: #3B4455;\n",
              "      --disabled-fill-color: #666;\n",
              "  }\n",
              "\n",
              "  .colab-df-quickchart {\n",
              "    background-color: var(--bg-color);\n",
              "    border: none;\n",
              "    border-radius: 50%;\n",
              "    cursor: pointer;\n",
              "    display: none;\n",
              "    fill: var(--fill-color);\n",
              "    height: 32px;\n",
              "    padding: 0;\n",
              "    width: 32px;\n",
              "  }\n",
              "\n",
              "  .colab-df-quickchart:hover {\n",
              "    background-color: var(--hover-bg-color);\n",
              "    box-shadow: 0 1px 2px rgba(60, 64, 67, 0.3), 0 1px 3px 1px rgba(60, 64, 67, 0.15);\n",
              "    fill: var(--button-hover-fill-color);\n",
              "  }\n",
              "\n",
              "  .colab-df-quickchart-complete:disabled,\n",
              "  .colab-df-quickchart-complete:disabled:hover {\n",
              "    background-color: var(--disabled-bg-color);\n",
              "    fill: var(--disabled-fill-color);\n",
              "    box-shadow: none;\n",
              "  }\n",
              "\n",
              "  .colab-df-spinner {\n",
              "    border: 2px solid var(--fill-color);\n",
              "    border-color: transparent;\n",
              "    border-bottom-color: var(--fill-color);\n",
              "    animation:\n",
              "      spin 1s steps(1) infinite;\n",
              "  }\n",
              "\n",
              "  @keyframes spin {\n",
              "    0% {\n",
              "      border-color: transparent;\n",
              "      border-bottom-color: var(--fill-color);\n",
              "      border-left-color: var(--fill-color);\n",
              "    }\n",
              "    20% {\n",
              "      border-color: transparent;\n",
              "      border-left-color: var(--fill-color);\n",
              "      border-top-color: var(--fill-color);\n",
              "    }\n",
              "    30% {\n",
              "      border-color: transparent;\n",
              "      border-left-color: var(--fill-color);\n",
              "      border-top-color: var(--fill-color);\n",
              "      border-right-color: var(--fill-color);\n",
              "    }\n",
              "    40% {\n",
              "      border-color: transparent;\n",
              "      border-right-color: var(--fill-color);\n",
              "      border-top-color: var(--fill-color);\n",
              "    }\n",
              "    60% {\n",
              "      border-color: transparent;\n",
              "      border-right-color: var(--fill-color);\n",
              "    }\n",
              "    80% {\n",
              "      border-color: transparent;\n",
              "      border-right-color: var(--fill-color);\n",
              "      border-bottom-color: var(--fill-color);\n",
              "    }\n",
              "    90% {\n",
              "      border-color: transparent;\n",
              "      border-bottom-color: var(--fill-color);\n",
              "    }\n",
              "  }\n",
              "</style>\n",
              "\n",
              "  <script>\n",
              "    async function quickchart(key) {\n",
              "      const quickchartButtonEl =\n",
              "        document.querySelector('#' + key + ' button');\n",
              "      quickchartButtonEl.disabled = true;  // To prevent multiple clicks.\n",
              "      quickchartButtonEl.classList.add('colab-df-spinner');\n",
              "      try {\n",
              "        const charts = await google.colab.kernel.invokeFunction(\n",
              "            'suggestCharts', [key], {});\n",
              "      } catch (error) {\n",
              "        console.error('Error during call to suggestCharts:', error);\n",
              "      }\n",
              "      quickchartButtonEl.classList.remove('colab-df-spinner');\n",
              "      quickchartButtonEl.classList.add('colab-df-quickchart-complete');\n",
              "    }\n",
              "    (() => {\n",
              "      let quickchartButtonEl =\n",
              "        document.querySelector('#df-160db391-cd7c-407a-a7e8-abfeceb5a324 button');\n",
              "      quickchartButtonEl.style.display =\n",
              "        google.colab.kernel.accessAllowed ? 'block' : 'none';\n",
              "    })();\n",
              "  </script>\n",
              "</div>\n",
              "    </div>\n",
              "  </div>\n"
            ]
          },
          "metadata": {},
          "execution_count": 161
        }
      ]
    },
    {
      "cell_type": "code",
      "source": [
        "df.sort_values('Price_euros',ascending=False)"
      ],
      "metadata": {
        "colab": {
          "base_uri": "https://localhost:8080/",
          "height": 424
        },
        "id": "s7toeNUefrvo",
        "outputId": "606f3fd4-7f11-4d28-92ef-0c76103cd0f5"
      },
      "execution_count": 162,
      "outputs": [
        {
          "output_type": "execute_result",
          "data": {
            "text/plain": [
              "    Company     TypeName   Ram  Weight  Price_euros  TouchScreen  Ips  \\\n",
              "196   Razer       Gaming  32GB  3.49kg       6099.0            1    0   \n",
              "830   Razer       Gaming  32GB  3.49kg       5499.0            1    0   \n",
              "610  Lenovo     Notebook  32GB   2.5kg       4899.0            0    1   \n",
              "749      HP  Workstation  16GB     3kg       4389.0            0    1   \n",
              "238    Asus       Gaming  32GB   4.7kg       3890.0            0    0   \n",
              "..      ...          ...   ...     ...          ...          ...  ...   \n",
              "555    Asus     Notebook   4GB     2kg        224.0            0    0   \n",
              "791    Vero     Notebook   4GB  1.22kg        202.9            0    0   \n",
              "31     Asus     Notebook   2GB  1.65kg        199.0            0    0   \n",
              "290    Acer     Notebook   2GB  2.19kg        199.0            0    0   \n",
              "20     Asus      Netbook   2GB  0.98kg        191.9            0    0   \n",
              "\n",
              "          Ppi              Cpu_brand   HDD   SSD       Os  \n",
              "196  254.6713          Intel Core i7     0  1000  Windows  \n",
              "830  254.6713          Intel Core i7     0   512  Windows  \n",
              "610  282.4240  Other Intel Processor     0  1000  Windows  \n",
              "749  127.3357  Other Intel Processor     0   256  Windows  \n",
              "238  127.3357          Intel Core i7  1000   512  Windows  \n",
              "..        ...                    ...   ...   ...      ...  \n",
              "555  100.4547  Other Intel Processor   500     0   Others  \n",
              "791  157.3505  Other Intel Processor     0     0  Windows  \n",
              "31   111.9352          AMD Processor     0     0  Windows  \n",
              "290  100.4547  Other Intel Processor     0    16   Others  \n",
              "20   135.0942  Other Intel Processor     0     0  Windows  \n",
              "\n",
              "[1000 rows x 12 columns]"
            ],
            "text/html": [
              "\n",
              "  <div id=\"df-37b23a74-f959-43cf-8b9d-ee3aa2fde09a\" class=\"colab-df-container\">\n",
              "    <div>\n",
              "<style scoped>\n",
              "    .dataframe tbody tr th:only-of-type {\n",
              "        vertical-align: middle;\n",
              "    }\n",
              "\n",
              "    .dataframe tbody tr th {\n",
              "        vertical-align: top;\n",
              "    }\n",
              "\n",
              "    .dataframe thead th {\n",
              "        text-align: right;\n",
              "    }\n",
              "</style>\n",
              "<table border=\"1\" class=\"dataframe\">\n",
              "  <thead>\n",
              "    <tr style=\"text-align: right;\">\n",
              "      <th></th>\n",
              "      <th>Company</th>\n",
              "      <th>TypeName</th>\n",
              "      <th>Ram</th>\n",
              "      <th>Weight</th>\n",
              "      <th>Price_euros</th>\n",
              "      <th>TouchScreen</th>\n",
              "      <th>Ips</th>\n",
              "      <th>Ppi</th>\n",
              "      <th>Cpu_brand</th>\n",
              "      <th>HDD</th>\n",
              "      <th>SSD</th>\n",
              "      <th>Os</th>\n",
              "    </tr>\n",
              "  </thead>\n",
              "  <tbody>\n",
              "    <tr>\n",
              "      <th>196</th>\n",
              "      <td>Razer</td>\n",
              "      <td>Gaming</td>\n",
              "      <td>32GB</td>\n",
              "      <td>3.49kg</td>\n",
              "      <td>6099.0</td>\n",
              "      <td>1</td>\n",
              "      <td>0</td>\n",
              "      <td>254.6713</td>\n",
              "      <td>Intel Core i7</td>\n",
              "      <td>0</td>\n",
              "      <td>1000</td>\n",
              "      <td>Windows</td>\n",
              "    </tr>\n",
              "    <tr>\n",
              "      <th>830</th>\n",
              "      <td>Razer</td>\n",
              "      <td>Gaming</td>\n",
              "      <td>32GB</td>\n",
              "      <td>3.49kg</td>\n",
              "      <td>5499.0</td>\n",
              "      <td>1</td>\n",
              "      <td>0</td>\n",
              "      <td>254.6713</td>\n",
              "      <td>Intel Core i7</td>\n",
              "      <td>0</td>\n",
              "      <td>512</td>\n",
              "      <td>Windows</td>\n",
              "    </tr>\n",
              "    <tr>\n",
              "      <th>610</th>\n",
              "      <td>Lenovo</td>\n",
              "      <td>Notebook</td>\n",
              "      <td>32GB</td>\n",
              "      <td>2.5kg</td>\n",
              "      <td>4899.0</td>\n",
              "      <td>0</td>\n",
              "      <td>1</td>\n",
              "      <td>282.4240</td>\n",
              "      <td>Other Intel Processor</td>\n",
              "      <td>0</td>\n",
              "      <td>1000</td>\n",
              "      <td>Windows</td>\n",
              "    </tr>\n",
              "    <tr>\n",
              "      <th>749</th>\n",
              "      <td>HP</td>\n",
              "      <td>Workstation</td>\n",
              "      <td>16GB</td>\n",
              "      <td>3kg</td>\n",
              "      <td>4389.0</td>\n",
              "      <td>0</td>\n",
              "      <td>1</td>\n",
              "      <td>127.3357</td>\n",
              "      <td>Other Intel Processor</td>\n",
              "      <td>0</td>\n",
              "      <td>256</td>\n",
              "      <td>Windows</td>\n",
              "    </tr>\n",
              "    <tr>\n",
              "      <th>238</th>\n",
              "      <td>Asus</td>\n",
              "      <td>Gaming</td>\n",
              "      <td>32GB</td>\n",
              "      <td>4.7kg</td>\n",
              "      <td>3890.0</td>\n",
              "      <td>0</td>\n",
              "      <td>0</td>\n",
              "      <td>127.3357</td>\n",
              "      <td>Intel Core i7</td>\n",
              "      <td>1000</td>\n",
              "      <td>512</td>\n",
              "      <td>Windows</td>\n",
              "    </tr>\n",
              "    <tr>\n",
              "      <th>...</th>\n",
              "      <td>...</td>\n",
              "      <td>...</td>\n",
              "      <td>...</td>\n",
              "      <td>...</td>\n",
              "      <td>...</td>\n",
              "      <td>...</td>\n",
              "      <td>...</td>\n",
              "      <td>...</td>\n",
              "      <td>...</td>\n",
              "      <td>...</td>\n",
              "      <td>...</td>\n",
              "      <td>...</td>\n",
              "    </tr>\n",
              "    <tr>\n",
              "      <th>555</th>\n",
              "      <td>Asus</td>\n",
              "      <td>Notebook</td>\n",
              "      <td>4GB</td>\n",
              "      <td>2kg</td>\n",
              "      <td>224.0</td>\n",
              "      <td>0</td>\n",
              "      <td>0</td>\n",
              "      <td>100.4547</td>\n",
              "      <td>Other Intel Processor</td>\n",
              "      <td>500</td>\n",
              "      <td>0</td>\n",
              "      <td>Others</td>\n",
              "    </tr>\n",
              "    <tr>\n",
              "      <th>791</th>\n",
              "      <td>Vero</td>\n",
              "      <td>Notebook</td>\n",
              "      <td>4GB</td>\n",
              "      <td>1.22kg</td>\n",
              "      <td>202.9</td>\n",
              "      <td>0</td>\n",
              "      <td>0</td>\n",
              "      <td>157.3505</td>\n",
              "      <td>Other Intel Processor</td>\n",
              "      <td>0</td>\n",
              "      <td>0</td>\n",
              "      <td>Windows</td>\n",
              "    </tr>\n",
              "    <tr>\n",
              "      <th>31</th>\n",
              "      <td>Asus</td>\n",
              "      <td>Notebook</td>\n",
              "      <td>2GB</td>\n",
              "      <td>1.65kg</td>\n",
              "      <td>199.0</td>\n",
              "      <td>0</td>\n",
              "      <td>0</td>\n",
              "      <td>111.9352</td>\n",
              "      <td>AMD Processor</td>\n",
              "      <td>0</td>\n",
              "      <td>0</td>\n",
              "      <td>Windows</td>\n",
              "    </tr>\n",
              "    <tr>\n",
              "      <th>290</th>\n",
              "      <td>Acer</td>\n",
              "      <td>Notebook</td>\n",
              "      <td>2GB</td>\n",
              "      <td>2.19kg</td>\n",
              "      <td>199.0</td>\n",
              "      <td>0</td>\n",
              "      <td>0</td>\n",
              "      <td>100.4547</td>\n",
              "      <td>Other Intel Processor</td>\n",
              "      <td>0</td>\n",
              "      <td>16</td>\n",
              "      <td>Others</td>\n",
              "    </tr>\n",
              "    <tr>\n",
              "      <th>20</th>\n",
              "      <td>Asus</td>\n",
              "      <td>Netbook</td>\n",
              "      <td>2GB</td>\n",
              "      <td>0.98kg</td>\n",
              "      <td>191.9</td>\n",
              "      <td>0</td>\n",
              "      <td>0</td>\n",
              "      <td>135.0942</td>\n",
              "      <td>Other Intel Processor</td>\n",
              "      <td>0</td>\n",
              "      <td>0</td>\n",
              "      <td>Windows</td>\n",
              "    </tr>\n",
              "  </tbody>\n",
              "</table>\n",
              "<p>1000 rows × 12 columns</p>\n",
              "</div>\n",
              "    <div class=\"colab-df-buttons\">\n",
              "\n",
              "  <div class=\"colab-df-container\">\n",
              "    <button class=\"colab-df-convert\" onclick=\"convertToInteractive('df-37b23a74-f959-43cf-8b9d-ee3aa2fde09a')\"\n",
              "            title=\"Convert this dataframe to an interactive table.\"\n",
              "            style=\"display:none;\">\n",
              "\n",
              "  <svg xmlns=\"http://www.w3.org/2000/svg\" height=\"24px\" viewBox=\"0 -960 960 960\">\n",
              "    <path d=\"M120-120v-720h720v720H120Zm60-500h600v-160H180v160Zm220 220h160v-160H400v160Zm0 220h160v-160H400v160ZM180-400h160v-160H180v160Zm440 0h160v-160H620v160ZM180-180h160v-160H180v160Zm440 0h160v-160H620v160Z\"/>\n",
              "  </svg>\n",
              "    </button>\n",
              "\n",
              "  <style>\n",
              "    .colab-df-container {\n",
              "      display:flex;\n",
              "      gap: 12px;\n",
              "    }\n",
              "\n",
              "    .colab-df-convert {\n",
              "      background-color: #E8F0FE;\n",
              "      border: none;\n",
              "      border-radius: 50%;\n",
              "      cursor: pointer;\n",
              "      display: none;\n",
              "      fill: #1967D2;\n",
              "      height: 32px;\n",
              "      padding: 0 0 0 0;\n",
              "      width: 32px;\n",
              "    }\n",
              "\n",
              "    .colab-df-convert:hover {\n",
              "      background-color: #E2EBFA;\n",
              "      box-shadow: 0px 1px 2px rgba(60, 64, 67, 0.3), 0px 1px 3px 1px rgba(60, 64, 67, 0.15);\n",
              "      fill: #174EA6;\n",
              "    }\n",
              "\n",
              "    .colab-df-buttons div {\n",
              "      margin-bottom: 4px;\n",
              "    }\n",
              "\n",
              "    [theme=dark] .colab-df-convert {\n",
              "      background-color: #3B4455;\n",
              "      fill: #D2E3FC;\n",
              "    }\n",
              "\n",
              "    [theme=dark] .colab-df-convert:hover {\n",
              "      background-color: #434B5C;\n",
              "      box-shadow: 0px 1px 3px 1px rgba(0, 0, 0, 0.15);\n",
              "      filter: drop-shadow(0px 1px 2px rgba(0, 0, 0, 0.3));\n",
              "      fill: #FFFFFF;\n",
              "    }\n",
              "  </style>\n",
              "\n",
              "    <script>\n",
              "      const buttonEl =\n",
              "        document.querySelector('#df-37b23a74-f959-43cf-8b9d-ee3aa2fde09a button.colab-df-convert');\n",
              "      buttonEl.style.display =\n",
              "        google.colab.kernel.accessAllowed ? 'block' : 'none';\n",
              "\n",
              "      async function convertToInteractive(key) {\n",
              "        const element = document.querySelector('#df-37b23a74-f959-43cf-8b9d-ee3aa2fde09a');\n",
              "        const dataTable =\n",
              "          await google.colab.kernel.invokeFunction('convertToInteractive',\n",
              "                                                    [key], {});\n",
              "        if (!dataTable) return;\n",
              "\n",
              "        const docLinkHtml = 'Like what you see? Visit the ' +\n",
              "          '<a target=\"_blank\" href=https://colab.research.google.com/notebooks/data_table.ipynb>data table notebook</a>'\n",
              "          + ' to learn more about interactive tables.';\n",
              "        element.innerHTML = '';\n",
              "        dataTable['output_type'] = 'display_data';\n",
              "        await google.colab.output.renderOutput(dataTable, element);\n",
              "        const docLink = document.createElement('div');\n",
              "        docLink.innerHTML = docLinkHtml;\n",
              "        element.appendChild(docLink);\n",
              "      }\n",
              "    </script>\n",
              "  </div>\n",
              "\n",
              "\n",
              "<div id=\"df-fb3cb462-0508-4e60-a3cd-b08762e6f49c\">\n",
              "  <button class=\"colab-df-quickchart\" onclick=\"quickchart('df-fb3cb462-0508-4e60-a3cd-b08762e6f49c')\"\n",
              "            title=\"Suggest charts.\"\n",
              "            style=\"display:none;\">\n",
              "\n",
              "<svg xmlns=\"http://www.w3.org/2000/svg\" height=\"24px\"viewBox=\"0 0 24 24\"\n",
              "     width=\"24px\">\n",
              "    <g>\n",
              "        <path d=\"M19 3H5c-1.1 0-2 .9-2 2v14c0 1.1.9 2 2 2h14c1.1 0 2-.9 2-2V5c0-1.1-.9-2-2-2zM9 17H7v-7h2v7zm4 0h-2V7h2v10zm4 0h-2v-4h2v4z\"/>\n",
              "    </g>\n",
              "</svg>\n",
              "  </button>\n",
              "\n",
              "<style>\n",
              "  .colab-df-quickchart {\n",
              "      --bg-color: #E8F0FE;\n",
              "      --fill-color: #1967D2;\n",
              "      --hover-bg-color: #E2EBFA;\n",
              "      --hover-fill-color: #174EA6;\n",
              "      --disabled-fill-color: #AAA;\n",
              "      --disabled-bg-color: #DDD;\n",
              "  }\n",
              "\n",
              "  [theme=dark] .colab-df-quickchart {\n",
              "      --bg-color: #3B4455;\n",
              "      --fill-color: #D2E3FC;\n",
              "      --hover-bg-color: #434B5C;\n",
              "      --hover-fill-color: #FFFFFF;\n",
              "      --disabled-bg-color: #3B4455;\n",
              "      --disabled-fill-color: #666;\n",
              "  }\n",
              "\n",
              "  .colab-df-quickchart {\n",
              "    background-color: var(--bg-color);\n",
              "    border: none;\n",
              "    border-radius: 50%;\n",
              "    cursor: pointer;\n",
              "    display: none;\n",
              "    fill: var(--fill-color);\n",
              "    height: 32px;\n",
              "    padding: 0;\n",
              "    width: 32px;\n",
              "  }\n",
              "\n",
              "  .colab-df-quickchart:hover {\n",
              "    background-color: var(--hover-bg-color);\n",
              "    box-shadow: 0 1px 2px rgba(60, 64, 67, 0.3), 0 1px 3px 1px rgba(60, 64, 67, 0.15);\n",
              "    fill: var(--button-hover-fill-color);\n",
              "  }\n",
              "\n",
              "  .colab-df-quickchart-complete:disabled,\n",
              "  .colab-df-quickchart-complete:disabled:hover {\n",
              "    background-color: var(--disabled-bg-color);\n",
              "    fill: var(--disabled-fill-color);\n",
              "    box-shadow: none;\n",
              "  }\n",
              "\n",
              "  .colab-df-spinner {\n",
              "    border: 2px solid var(--fill-color);\n",
              "    border-color: transparent;\n",
              "    border-bottom-color: var(--fill-color);\n",
              "    animation:\n",
              "      spin 1s steps(1) infinite;\n",
              "  }\n",
              "\n",
              "  @keyframes spin {\n",
              "    0% {\n",
              "      border-color: transparent;\n",
              "      border-bottom-color: var(--fill-color);\n",
              "      border-left-color: var(--fill-color);\n",
              "    }\n",
              "    20% {\n",
              "      border-color: transparent;\n",
              "      border-left-color: var(--fill-color);\n",
              "      border-top-color: var(--fill-color);\n",
              "    }\n",
              "    30% {\n",
              "      border-color: transparent;\n",
              "      border-left-color: var(--fill-color);\n",
              "      border-top-color: var(--fill-color);\n",
              "      border-right-color: var(--fill-color);\n",
              "    }\n",
              "    40% {\n",
              "      border-color: transparent;\n",
              "      border-right-color: var(--fill-color);\n",
              "      border-top-color: var(--fill-color);\n",
              "    }\n",
              "    60% {\n",
              "      border-color: transparent;\n",
              "      border-right-color: var(--fill-color);\n",
              "    }\n",
              "    80% {\n",
              "      border-color: transparent;\n",
              "      border-right-color: var(--fill-color);\n",
              "      border-bottom-color: var(--fill-color);\n",
              "    }\n",
              "    90% {\n",
              "      border-color: transparent;\n",
              "      border-bottom-color: var(--fill-color);\n",
              "    }\n",
              "  }\n",
              "</style>\n",
              "\n",
              "  <script>\n",
              "    async function quickchart(key) {\n",
              "      const quickchartButtonEl =\n",
              "        document.querySelector('#' + key + ' button');\n",
              "      quickchartButtonEl.disabled = true;  // To prevent multiple clicks.\n",
              "      quickchartButtonEl.classList.add('colab-df-spinner');\n",
              "      try {\n",
              "        const charts = await google.colab.kernel.invokeFunction(\n",
              "            'suggestCharts', [key], {});\n",
              "      } catch (error) {\n",
              "        console.error('Error during call to suggestCharts:', error);\n",
              "      }\n",
              "      quickchartButtonEl.classList.remove('colab-df-spinner');\n",
              "      quickchartButtonEl.classList.add('colab-df-quickchart-complete');\n",
              "    }\n",
              "    (() => {\n",
              "      let quickchartButtonEl =\n",
              "        document.querySelector('#df-fb3cb462-0508-4e60-a3cd-b08762e6f49c button');\n",
              "      quickchartButtonEl.style.display =\n",
              "        google.colab.kernel.accessAllowed ? 'block' : 'none';\n",
              "    })();\n",
              "  </script>\n",
              "</div>\n",
              "    </div>\n",
              "  </div>\n"
            ]
          },
          "metadata": {},
          "execution_count": 162
        }
      ]
    },
    {
      "cell_type": "code",
      "source": [
        "df[['Price_euros']].min()"
      ],
      "metadata": {
        "colab": {
          "base_uri": "https://localhost:8080/"
        },
        "id": "Tb_cXtMadqaw",
        "outputId": "3fb963f0-f66a-47ff-b27b-7af1bdbe2e6e"
      },
      "execution_count": 163,
      "outputs": [
        {
          "output_type": "execute_result",
          "data": {
            "text/plain": [
              "Price_euros    191.9\n",
              "dtype: float64"
            ]
          },
          "metadata": {},
          "execution_count": 163
        }
      ]
    },
    {
      "cell_type": "markdown",
      "source": [
        "\n",
        "\n",
        "\n",
        "\n",
        "Minimum price of laptop  is around 191.9 euros"
      ],
      "metadata": {
        "id": "vCCNxkihoJWc"
      }
    },
    {
      "cell_type": "code",
      "source": [
        "df[['Price_euros']].max()"
      ],
      "metadata": {
        "colab": {
          "base_uri": "https://localhost:8080/"
        },
        "id": "F2s0IBdue9rw",
        "outputId": "13ad43d1-295c-473f-e108-466784678ebf"
      },
      "execution_count": 164,
      "outputs": [
        {
          "output_type": "execute_result",
          "data": {
            "text/plain": [
              "Price_euros    6099.0\n",
              "dtype: float64"
            ]
          },
          "metadata": {},
          "execution_count": 164
        }
      ]
    },
    {
      "cell_type": "markdown",
      "source": [
        "\n",
        "\n",
        "\n",
        "\n",
        " Maximum price of laptop is around 191.9 euros\n",
        "\n"
      ],
      "metadata": {
        "id": "tbnFu4XKoZ0i"
      }
    },
    {
      "cell_type": "markdown",
      "source": [
        "# Univariate Analysis"
      ],
      "metadata": {
        "id": "2IezpAQtg3Rp"
      }
    },
    {
      "cell_type": "code",
      "source": [
        "price=df['Price_euros']"
      ],
      "metadata": {
        "id": "I078cQcMhCBp"
      },
      "execution_count": 165,
      "outputs": []
    },
    {
      "cell_type": "code",
      "source": [
        "mean = price.mean()\n",
        "median = price.median()\n",
        "mode = price.mode()[0]\n",
        "std_dev = price.std()\n",
        "print(f\"Mean: {mean}\")\n",
        "print(f\"Median: {median}\")\n",
        "print(f\"Mode: {mode}\")\n",
        "print(f\"Standard Deviation: {std_dev}\")"
      ],
      "metadata": {
        "colab": {
          "base_uri": "https://localhost:8080/"
        },
        "id": "z1ZmiYS7hLvz",
        "outputId": "03697d35-d8c4-4c67-840e-c76c8c8f2084"
      },
      "execution_count": 166,
      "outputs": [
        {
          "output_type": "stream",
          "name": "stdout",
          "text": [
            "Mean: 1125.7060699999997\n",
            "Median: 959.5\n",
            "Mode: 1099.0\n",
            "Standard Deviation: 705.3806589625871\n"
          ]
        }
      ]
    },
    {
      "cell_type": "code",
      "source": [
        "plt.figure(figsize=(12,6))\n",
        "sns.countplot(x=df['TypeName'])\n",
        "plt.title(\"Laptop typenames count plot\")\n",
        "plt.xlabel(\" TypeNames\")\n",
        "plt.ylabel(\"count\")\n",
        "plt.grid(False)"
      ],
      "metadata": {
        "colab": {
          "base_uri": "https://localhost:8080/",
          "height": 573
        },
        "id": "VmCDX0QvfHJm",
        "outputId": "4d38041b-a397-40e1-f175-301e89cfe531"
      },
      "execution_count": 167,
      "outputs": [
        {
          "output_type": "display_data",
          "data": {
            "text/plain": [
              "<Figure size 1200x600 with 1 Axes>"
            ],
            "image/png": "[encoded data removed]"
          },
          "metadata": {}
        }
      ]
    },
    {
      "cell_type": "markdown",
      "source": [
        "**Above** graph shows count of types of laptop.\n",
        "From above graph we conclude that Notebook type of laptop is maxmimum in number and Netbook type of laptop is least in **number**"
      ],
      "metadata": {
        "id": "R_c0lr3BPOgL"
      }
    },
    {
      "cell_type": "code",
      "source": [
        "plt.figure(figsize=(12,6))\n",
        "sns.histplot(x=df['Ppi'],bins=[100,150,200,250,300,350])\n",
        "plt.title(\"Laptop ppi with ppi feature histogram plot\")\n",
        "plt.xlabel(\"Ppi\")\n",
        "plt.ylabel(\"Frequency\")\n",
        "plt.grid(False)"
      ],
      "metadata": {
        "colab": {
          "base_uri": "https://localhost:8080/",
          "height": 573
        },
        "id": "aGiJAaxNfcii",
        "outputId": "ad181106-e5d1-4064-c9cf-a51db0cc5e51"
      },
      "execution_count": 168,
      "outputs": [
        {
          "output_type": "display_data",
          "data": {
            "text/plain": [
              "<Figure size 1200x600 with 1 Axes>"
            ],
            "image/png": "[encoded data removed]"
          },
          "metadata": {}
        }
      ]
    },
    {
      "cell_type": "markdown",
      "source": [
        "Pixels per inch (PPI) is typically used to refer to the display resolution, or pixel density, of a computer monitor or screen. The greater the pixels per inch (PPI), the greater the detail in the image or display.\n",
        "Above histogram depicts ppi of laptops.\n",
        "Almost 690 laptops have ppi between 100 to 150.\n",
        "200 laptops have ppi between 150 to 200.\n",
        "40 laptops have ppi between 200 to 250.\n",
        "50 laptops have ppi between 250 to 300.\n",
        "20 laptops have ppi between 300 to 350\n"
      ],
      "metadata": {
        "id": "6bPfJWgVQ9sA"
      }
    },
    {
      "cell_type": "code",
      "source": [
        "x = df['Ips'].value_counts()\n",
        "plt.pie(x.values,\n",
        "        labels=x.index,\n",
        "        autopct='%1.1f%%')\n",
        "plt.show()"
      ],
      "metadata": {
        "colab": {
          "base_uri": "https://localhost:8080/",
          "height": 406
        },
        "id": "KawiB9wTlDvW",
        "outputId": "66c839d1-f705-428d-f74f-66494468d5a4"
      },
      "execution_count": 169,
      "outputs": [
        {
          "output_type": "display_data",
          "data": {
            "text/plain": [
              "<Figure size 640x480 with 1 Axes>"
            ],
            "image/png": "[encoded data removed]"
          },
          "metadata": {}
        }
      ]
    },
    {
      "cell_type": "markdown",
      "source": [
        "the pie chart provides a visual representation of the distribution of laptops based on the presence or absence of IPS technology. It helps viewers understand the prevalence of IPS displays among the laptops in the dataset, making it easier to draw insights about this feature's representation in the data.\n",
        "\n",
        "Pie plot concludes that only 28.3% laptops have IPS technolgy(IPS, also known as In-Plane Switching, is a type of monitor display and screen technology).\n",
        "71.7% of laptops have no ips technology"
      ],
      "metadata": {
        "id": "Q_CpvDkBSJwb"
      }
    },
    {
      "cell_type": "code",
      "source": [
        "sns.violinplot(df['Price_euros'],orient='vertical')"
      ],
      "metadata": {
        "colab": {
          "base_uri": "https://localhost:8080/",
          "height": 451
        },
        "id": "-h4EfOPqrrkl",
        "outputId": "54dd7138-e006-40e2-9674-f4fe46f30de9"
      },
      "execution_count": 170,
      "outputs": [
        {
          "output_type": "execute_result",
          "data": {
            "text/plain": [
              "<Axes: >"
            ]
          },
          "metadata": {},
          "execution_count": 170
        },
        {
          "output_type": "display_data",
          "data": {
            "text/plain": [
              "<Figure size 640x480 with 1 Axes>"
            ],
            "image/png": "[encoded data removed]"
          },
          "metadata": {}
        }
      ]
    },
    {
      "cell_type": "markdown",
      "source": [
        "\n",
        "Above violin plot depicts the prices of laptops.\n",
        "Prices of laptops starts from 0 to above 6000.\n",
        "Most of laptops have prices between 0 to 2000."
      ],
      "metadata": {
        "id": "O_6I8Z-LBaSy"
      }
    },
    {
      "cell_type": "markdown",
      "source": [
        "# Bivariate Analysis"
      ],
      "metadata": {
        "id": "X43-rXTI20on"
      }
    },
    {
      "cell_type": "code",
      "source": [
        "plt.figure(figsize=(17,6))\n",
        "sns.barplot(x='Company',y='Price_euros',data=df)\n",
        "plt.grid(False)\n",
        "plt.show()\n"
      ],
      "metadata": {
        "id": "Eu4b2NV1PHlv",
        "colab": {
          "base_uri": "https://localhost:8080/",
          "height": 550
        },
        "outputId": "04228913-6fc5-4bea-994e-01b8b7189b1f"
      },
      "execution_count": 171,
      "outputs": [
        {
          "output_type": "display_data",
          "data": {
            "text/plain": [
              "<Figure size 1700x600 with 1 Axes>"
            ],
            "image/png": "[encoded data removed]"
          },
          "metadata": {}
        }
      ]
    },
    {
      "cell_type": "markdown",
      "source": [
        "the bar plot offers a clear comparison of laptop prices across various manufacturers. It provides valuable information about the price distribution and allows for the identification of manufacturers with different pricing strategies within the laptop market.\n",
        "Above bar chart gives insight that Razer company laptop has maximum price\n"
      ],
      "metadata": {
        "id": "wCddgIyYnhbX"
      }
    },
    {
      "cell_type": "code",
      "source": [
        "highest_price_product = df[df['Price_euros'] == df['Price_euros'].max()]\n",
        "highest_product_name = highest_price_product['Company'].values[0]\n",
        "highest_product_price = highest_price_product['Price_euros'].values[0]\n",
        "\n",
        "# Create a bar chart\n",
        "plt.figure(figsize=(8, 6))\n",
        "plt.bar(highest_product_name, highest_product_price, color='blue')\n",
        "plt.xlabel('Company')\n",
        "plt.ylabel('Price_euros')\n",
        "plt.title('Highest-Priced Product')\n",
        "plt.show()\n"
      ],
      "metadata": {
        "colab": {
          "base_uri": "https://localhost:8080/",
          "height": 573
        },
        "id": "VpTyVJwho0jU",
        "outputId": "c480a54e-963d-43db-a1e0-769fc420aac2"
      },
      "execution_count": 172,
      "outputs": [
        {
          "output_type": "display_data",
          "data": {
            "text/plain": [
              "<Figure size 800x600 with 1 Axes>"
            ],
            "image/png": "[encoded data removed]"
          },
          "metadata": {}
        }
      ]
    },
    {
      "cell_type": "markdown",
      "source": [
        "# Above graph shows the laptop which has highest price"
      ],
      "metadata": {
        "id": "-B_GAZZ-aSTi"
      }
    },
    {
      "cell_type": "code",
      "source": [
        "lowest_price_product = df[df['Price_euros'] == df['Price_euros'].min()]\n",
        "lowest_product_name =lowest_price_product['Company'].values[0]\n",
        "lowest_product_price = lowest_price_product['Price_euros'].values[0]\n",
        "plt.figure(figsize=(8, 6))\n",
        "plt.bar(lowest_product_name, lowest_product_price, color='skyblue')\n",
        "plt.xlabel('Company')\n",
        "plt.ylabel('Price_euros')\n",
        "plt.title('Lowest-Priced Product')\n",
        "plt.show()"
      ],
      "metadata": {
        "colab": {
          "base_uri": "https://localhost:8080/",
          "height": 573
        },
        "id": "xbQIKYx2sE_w",
        "outputId": "0d041982-b992-49a9-d649-e3849d7f3ea8"
      },
      "execution_count": 173,
      "outputs": [
        {
          "output_type": "display_data",
          "data": {
            "text/plain": [
              "<Figure size 800x600 with 1 Axes>"
            ],
            "image/png": "[encoded data removed]"
          },
          "metadata": {}
        }
      ]
    },
    {
      "cell_type": "code",
      "source": [
        "plt.figure(figsize=(12,6))\n",
        "sns.scatterplot(x='TypeName',y='Company',hue='Ram',data=df)\n",
        "plt.grid(False)\n",
        "plt.show()"
      ],
      "metadata": {
        "colab": {
          "base_uri": "https://localhost:8080/",
          "height": 550
        },
        "id": "YHwvd4votScp",
        "outputId": "0e8b53dc-ba6a-4348-c611-9aff5c5d1b96"
      },
      "execution_count": 174,
      "outputs": [
        {
          "output_type": "display_data",
          "data": {
            "text/plain": [
              "<Figure size 1200x600 with 1 Axes>"
            ],
            "image/png": "[encoded data removed]"
          },
          "metadata": {}
        }
      ]
    },
    {
      "cell_type": "markdown",
      "source": [
        "Scatterplot shows the Ram hold by company with its type name.\n"
      ],
      "metadata": {
        "id": "eIFX_iLUvPhX"
      }
    },
    {
      "cell_type": "code",
      "source": [
        "plt.figure(figsize=(12,6))\n",
        "sns.scatterplot(x='TypeName',y='Os',data=df)\n",
        "plt.grid(False)"
      ],
      "metadata": {
        "colab": {
          "base_uri": "https://localhost:8080/",
          "height": 550
        },
        "id": "b8lgp1ug6wCU",
        "outputId": "cf8c34ef-800f-45b4-eeaf-765e71e6b8c1"
      },
      "execution_count": 175,
      "outputs": [
        {
          "output_type": "display_data",
          "data": {
            "text/plain": [
              "<Figure size 1200x600 with 1 Axes>"
            ],
            "image/png": "[encoded data removed]"
          },
          "metadata": {}
        }
      ]
    },
    {
      "cell_type": "markdown",
      "source": [
        "Above plot shows laptop type which contains which os"
      ],
      "metadata": {
        "id": "GBkRTsi91pfg"
      }
    },
    {
      "cell_type": "code",
      "source": [
        "plt.figure(figsize=(17,8))\n",
        "plt.subplot(2,2,1)\n",
        "sns.lineplot(x='Os',y='SSD',data=df,marker=('o'),linestyle='--',color='r')\n",
        "plt.subplot(2,2,2)\n",
        "sns.barplot(x='Os',y='SSD',data=df)\n",
        "plt.grid(False)"
      ],
      "metadata": {
        "colab": {
          "base_uri": "https://localhost:8080/",
          "height": 368
        },
        "id": "w_i0dUMfv5Jm",
        "outputId": "f1dec3a8-0326-4d6e-c6d3-545c1c3de78a"
      },
      "execution_count": 176,
      "outputs": [
        {
          "output_type": "display_data",
          "data": {
            "text/plain": [
              "<Figure size 1700x800 with 2 Axes>"
            ],
            "image/png": "[encoded data removed]"
          },
          "metadata": {}
        }
      ]
    },
    {
      "cell_type": "markdown",
      "source": [
        "operating system (OS) does require some form of storage device to be installed and run on a computer. The storage device can be a hard disk drive (HDD), solid-state drive (SSD), or other types of storage media.\n",
        "\n",
        "both plots visualize how the choice of operating system relates to the presence of SSDs in laptops. The line plot emphasizes trends and variations, while the bar plot provides a clearer comparison of SSD presence among different operating systems. These visualizations can help in assessing the impact of the operating system choice on the inclusion of SSDs in laptops.\n",
        "\n",
        "MacOs has storage of 240\n",
        "\n",
        "Other Os 80\n",
        "\n",
        "Windows 210"
      ],
      "metadata": {
        "id": "YxZrzbIG_xQs"
      }
    },
    {
      "cell_type": "code",
      "source": [
        "corr_matrix=df[['Price_euros','TouchScreen']].corr()\n",
        "sns.heatmap(corr_matrix,annot=True,cmap='coolwarm',fmt=\".2f\")\n",
        "print(corr_matrix.corr())"
      ],
      "metadata": {
        "colab": {
          "base_uri": "https://localhost:8080/",
          "height": 493
        },
        "id": "0J8p1J7RdL2E",
        "outputId": "aa1f9893-cc90-4080-b00b-a1707f281fc5"
      },
      "execution_count": 177,
      "outputs": [
        {
          "output_type": "stream",
          "name": "stdout",
          "text": [
            "             Price_euros  TouchScreen\n",
            "Price_euros          1.0         -1.0\n",
            "TouchScreen         -1.0          1.0\n"
          ]
        },
        {
          "output_type": "display_data",
          "data": {
            "text/plain": [
              "<Figure size 640x480 with 2 Axes>"
            ],
            "image/png": "[encoded data removed]"
          },
          "metadata": {}
        }
      ]
    },
    {
      "cell_type": "markdown",
      "source": [
        "the analysis indicates that the presence of a touchscreen in a laptop is not strongly correlated with its price in this dataset. Additionally, there is no secondary correlation observed in the meta-correlation matrix\n",
        "\n"
      ],
      "metadata": {
        "id": "AEYkxGiffXBp"
      }
    },
    {
      "cell_type": "code",
      "source": [
        "plt.figure(figsize=(15,7))\n",
        "sns.swarmplot(x='TypeName',y='SSD',data=df)\n",
        "plt.title('SSD storage of laptop')\n"
      ],
      "metadata": {
        "colab": {
          "base_uri": "https://localhost:8080/",
          "height": 945
        },
        "id": "DYP6hP0zu5-T",
        "outputId": "5d1af652-75b8-4454-aaca-c154540ba0a7"
      },
      "execution_count": 178,
      "outputs": [
        {
          "output_type": "stream",
          "name": "stderr",
          "text": [
            "/usr/local/lib/python3.10/dist-packages/seaborn/categorical.py:3544: UserWarning: 53.9% of the points cannot be placed; you may want to decrease the size of the markers or use stripplot.\n",
            "  warnings.warn(msg, UserWarning)\n",
            "/usr/local/lib/python3.10/dist-packages/seaborn/categorical.py:3544: UserWarning: 82.4% of the points cannot be placed; you may want to decrease the size of the markers or use stripplot.\n",
            "  warnings.warn(msg, UserWarning)\n",
            "/usr/local/lib/python3.10/dist-packages/seaborn/categorical.py:3544: UserWarning: 40.5% of the points cannot be placed; you may want to decrease the size of the markers or use stripplot.\n",
            "  warnings.warn(msg, UserWarning)\n",
            "/usr/local/lib/python3.10/dist-packages/seaborn/categorical.py:3544: UserWarning: 21.6% of the points cannot be placed; you may want to decrease the size of the markers or use stripplot.\n",
            "  warnings.warn(msg, UserWarning)\n"
          ]
        },
        {
          "output_type": "execute_result",
          "data": {
            "text/plain": [
              "Text(0.5, 1.0, 'SSD storage of laptop')"
            ]
          },
          "metadata": {},
          "execution_count": 178
        },
        {
          "output_type": "stream",
          "name": "stderr",
          "text": [
            "/usr/local/lib/python3.10/dist-packages/seaborn/categorical.py:3544: UserWarning: 56.5% of the points cannot be placed; you may want to decrease the size of the markers or use stripplot.\n",
            "  warnings.warn(msg, UserWarning)\n",
            "/usr/local/lib/python3.10/dist-packages/seaborn/categorical.py:3544: UserWarning: 83.5% of the points cannot be placed; you may want to decrease the size of the markers or use stripplot.\n",
            "  warnings.warn(msg, UserWarning)\n",
            "/usr/local/lib/python3.10/dist-packages/seaborn/categorical.py:3544: UserWarning: 43.8% of the points cannot be placed; you may want to decrease the size of the markers or use stripplot.\n",
            "  warnings.warn(msg, UserWarning)\n",
            "/usr/local/lib/python3.10/dist-packages/seaborn/categorical.py:3544: UserWarning: 23.9% of the points cannot be placed; you may want to decrease the size of the markers or use stripplot.\n",
            "  warnings.warn(msg, UserWarning)\n"
          ]
        },
        {
          "output_type": "display_data",
          "data": {
            "text/plain": [
              "<Figure size 1500x700 with 1 Axes>"
            ],
            "image/png": "[encoded data removed]"
          },
          "metadata": {}
        }
      ]
    },
    {
      "cell_type": "markdown",
      "source": [
        "The swarm plot provides an overview of how SSD storage capacities are distributed across different laptop types. Each point in the plot represents an individual laptop's SSD capacity within its respective type."
      ],
      "metadata": {
        "id": "dn7OfCYk1E-6"
      }
    },
    {
      "cell_type": "code",
      "source": [
        "variance=df.var()\n",
        "print(\"variance:\")\n",
        "print(variance)"
      ],
      "metadata": {
        "id": "UshaRdoPpwRU",
        "colab": {
          "base_uri": "https://localhost:8080/"
        },
        "outputId": "5cdde2fc-be6a-4a81-edd7-caedc0b02c0e"
      },
      "execution_count": 179,
      "outputs": [
        {
          "output_type": "stream",
          "name": "stdout",
          "text": [
            "variance:\n",
            "Price_euros    497561.874038\n",
            "TouchScreen         0.124099\n",
            "Ips                 0.203114\n",
            "Ppi              1808.962804\n",
            "HDD            282773.986386\n",
            "SSD             35589.306811\n",
            "dtype: float64\n"
          ]
        },
        {
          "output_type": "stream",
          "name": "stderr",
          "text": [
            "<ipython-input-179-e561ace207f0>:1: FutureWarning: The default value of numeric_only in DataFrame.var is deprecated. In a future version, it will default to False. In addition, specifying 'numeric_only=None' is deprecated. Select only valid columns or specify the value of numeric_only to silence this warning.\n",
            "  variance=df.var()\n"
          ]
        }
      ]
    },
    {
      "cell_type": "code",
      "source": [
        "cov_matrix=df.cov()\n",
        "print(\"Covariance matrix:\")\n",
        "print(cov_matrix)"
      ],
      "metadata": {
        "id": "SWVJ8pdnqD1O",
        "colab": {
          "base_uri": "https://localhost:8080/"
        },
        "outputId": "87255df6-7bca-4d01-ec64-a8ab9ff40b9d"
      },
      "execution_count": 180,
      "outputs": [
        {
          "output_type": "stream",
          "name": "stdout",
          "text": [
            "Covariance matrix:\n",
            "               Price_euros  TouchScreen        Ips           Ppi  \\\n",
            "Price_euros  497561.874038    51.382993  74.327159  14953.386597   \n",
            "TouchScreen      51.382993     0.124099   0.015981      6.571629   \n",
            "Ips              74.327159     0.015981   0.203114      5.820017   \n",
            "Ppi           14953.386597     6.571629   5.820017   1808.962804   \n",
            "HDD          -32183.301568   -34.740440 -25.974755  -6221.209517   \n",
            "SSD           89458.134470    16.220941  18.235724   4204.679108   \n",
            "\n",
            "                       HDD           SSD  \n",
            "Price_euros  -32183.301568  89458.134470  \n",
            "TouchScreen     -34.740440     16.220941  \n",
            "Ips             -25.974755     18.235724  \n",
            "Ppi           -6221.209517   4204.679108  \n",
            "HDD          282773.986386 -39290.412653  \n",
            "SSD          -39290.412653  35589.306811  \n"
          ]
        },
        {
          "output_type": "stream",
          "name": "stderr",
          "text": [
            "<ipython-input-180-e435202a8029>:1: FutureWarning: The default value of numeric_only in DataFrame.cov is deprecated. In a future version, it will default to False. Select only valid columns or specify the value of numeric_only to silence this warning.\n",
            "  cov_matrix=df.cov()\n"
          ]
        }
      ]
    },
    {
      "cell_type": "markdown",
      "source": [
        "# Multivariate Analysis"
      ],
      "metadata": {
        "id": "Lf8Nl_v5oi8Y"
      }
    },
    {
      "cell_type": "code",
      "source": [
        "sns.pairplot(df[['Price_euros','Ips','HDD']],diag_kind='kde')\n",
        "plt.suptitle(\"Pair plot of laptop price and related categories\",y=1.02)"
      ],
      "metadata": {
        "id": "WJeu0Nf8qgDL",
        "colab": {
          "base_uri": "https://localhost:8080/",
          "height": 803
        },
        "outputId": "29514528-517e-46d4-a7c8-b2799487214b"
      },
      "execution_count": 181,
      "outputs": [
        {
          "output_type": "execute_result",
          "data": {
            "text/plain": [
              "Text(0.5, 1.02, 'Pair plot of laptop price and related categories')"
            ]
          },
          "metadata": {},
          "execution_count": 181
        },
        {
          "output_type": "display_data",
          "data": {
            "text/plain": [
              "<Figure size 750x750 with 12 Axes>"
            ],
            "image/png": "[encoded data removed]"
          },
          "metadata": {}
        }
      ]
    },
    {
      "cell_type": "markdown",
      "source": [
        "Overall, this pair plot indicates that while IPS displays may have some influence on laptop prices, HDD storage capacity does not appear to be a significant factor in determining laptop prices."
      ],
      "metadata": {
        "id": "9NTG0Y9y2QqZ"
      }
    },
    {
      "cell_type": "markdown",
      "source": [
        "From,the correlations observed in this dataset, it appears that neither the presence of a touchscreen nor the presence of an IPS display has a strong linear correlation with laptop prices. Additionally, there doesn't seem to be a strong secondary correlation between 'TouchScreen' and 'Ips' or any other significant interrelationship among the variables 'Price_euros,' 'TouchScreen,' and 'Ips' in this dataset"
      ],
      "metadata": {
        "id": "-JM9shdTvF1O"
      }
    },
    {
      "cell_type": "code",
      "source": [
        "corr_matrix=df[['Price_euros','TouchScreen','Ips']].corr()\n",
        "sns.heatmap(corr_matrix,annot=True,cmap='magma',fmt=\".2f\")\n",
        "print(corr_matrix.corr())"
      ],
      "metadata": {
        "id": "s8ebwDJtzQc6",
        "colab": {
          "base_uri": "https://localhost:8080/",
          "height": 510
        },
        "outputId": "b5edb2c3-a2e8-4c16-9af7-1b5ad77aa592"
      },
      "execution_count": 182,
      "outputs": [
        {
          "output_type": "stream",
          "name": "stdout",
          "text": [
            "             Price_euros  TouchScreen       Ips\n",
            "Price_euros     1.000000    -0.430846 -0.348531\n",
            "TouchScreen    -0.430846     1.000000 -0.695678\n",
            "Ips            -0.348531    -0.695678  1.000000\n"
          ]
        },
        {
          "output_type": "display_data",
          "data": {
            "text/plain": [
              "<Figure size 640x480 with 2 Axes>"
            ],
            "image/png": "[encoded data removed]"
          },
          "metadata": {}
        }
      ]
    },
    {
      "cell_type": "markdown",
      "source": [
        "From,the correlations observed in this dataset, it appears that neither the presence of a touchscreen nor the presence of an IPS display has a strong linear correlation with laptop prices. Additionally, there doesn't seem to be a strong secondary correlation between 'TouchScreen' and 'Ips' or any other significant interrelationship among the variables 'Price_euros,' 'TouchScreen,' and 'Ips' in this dataset"
      ],
      "metadata": {
        "id": "jh6MaIf4z2hs"
      }
    },
    {
      "cell_type": "markdown",
      "source": [
        "# In overall visualization ,we can see distribution of features of different types of laptop\n",
        "\n",
        "Razer laptop is high priced\n",
        "\n",
        "Asus laptop is low priced\n",
        "\n",
        "Notebook type of laptop is sold in large number\n",
        "\n",
        "MacOs has SSD (SSDs are a modern storage technology known for their speed, durability, and energy efficiency, making them a popular choice for both consumer and enterprise computing devices.)\n",
        "\n",
        "Among all laptop types,ultrabook has MacOs\n",
        "\n",
        "\n",
        "\n"
      ],
      "metadata": {
        "id": "82EKJeQxvsFz"
      }
    }
  ]
}
